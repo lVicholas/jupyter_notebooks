{
 "cells": [
  {
   "cell_type": "code",
   "execution_count": 1,
   "id": "4db99d53",
   "metadata": {},
   "outputs": [],
   "source": [
    "import pandas as pd\n",
    "import yfinance as yf\n",
    "import numpy as np\n",
    "\n",
    "from sklearn.preprocessing import LabelEncoder\n",
    "\n",
    "import tensorflow as tf\n",
    "from keras import backend as K\n",
    "\n",
    "from sklearn.model_selection import train_test_split\n",
    "\n",
    "from tensorflow.keras.layers import Input, concatenate\n",
    "from tensorflow.keras.layers import Dense, Dropout\n",
    "from tensorflow.keras.layers import BatchNormalization as BatchNorm\n",
    "from tensorflow.keras import Model\n",
    "\n",
    "import matplotlib.pyplot as plt"
   ]
  },
  {
   "cell_type": "code",
   "execution_count": 2,
   "id": "b2c3e84f",
   "metadata": {},
   "outputs": [
    {
     "data": {
      "text/plain": [
       "['MMM', 'AOS', 'ABT', 'ABBV', 'ABMD', 'ACN', 'ATVI', 'ADM', 'ADBE', 'ADP']"
      ]
     },
     "execution_count": 2,
     "metadata": {},
     "output_type": "execute_result"
    }
   ],
   "source": [
    "# Get S&P500 ticker symbols\n",
    "_ = pd.read_html('https://en.wikipedia.org/wiki/List_of_S%26P_500_companies')\n",
    "SAP_500_TICKERS = list(_[0]['Symbol'])\n",
    "SAP_500_TICKERS[:10]"
   ]
  },
  {
   "cell_type": "code",
   "execution_count": 2,
   "id": "03c8d969",
   "metadata": {},
   "outputs": [],
   "source": [
    "DATA_SAVE_DIR = 'C:/_local/data_sets/'\n",
    "DATA_SAVE_FILE_NAME = 's&p_500_5y_data.gz'\n",
    "DATA_SAVE_PATH = DATA_SAVE_DIR + DATA_SAVE_FILE_NAME"
   ]
  },
  {
   "cell_type": "markdown",
   "id": "a020ae1d",
   "metadata": {},
   "source": [
    "## Get data from Yahoo Finance"
   ]
  },
  {
   "cell_type": "code",
   "execution_count": 67,
   "id": "06d69aef",
   "metadata": {},
   "outputs": [],
   "source": [
    "# Gets data for a given ticker, and creates some features\n",
    "# This is done for each ticker to avoid problems with moving averages over different tickers\n",
    "def get_historical_data(ticker):\n",
    "    \n",
    "    tick = yf.Ticker(ticker)\n",
    "    df = tick.history(period='5y')\n",
    "    \n",
    "    df = df.rename(columns={'Open': 'open', 'High': 'high', 'Low': 'low',\n",
    "                            'Close': 'close', 'Volume': 'volume', \n",
    "                            'Dividends': 'dividends', \n",
    "                            'Stock Splits': 'stock_splits'})\n",
    "    \n",
    "    if 'Adj Close' in df.columns:\n",
    "        df.drop(['Adj Close'], axis=1, inplace=True)\n",
    "        \n",
    "    \n",
    "    df['open_ma_3'] = df['open'].rolling(3).mean()\n",
    "    df['open_ma_5'] = df['open'].rolling(5).mean()\n",
    "    df['open_ma_10'] = df['open'].rolling(10).mean()\n",
    "    \n",
    "    df['volume_ma_3'] = df['volume'].rolling(3).mean()\n",
    "    df['volume_ma_5'] = df['volume'].rolling(5).mean()\n",
    "    df['volume_ma_10'] = df['volume'].rolling(10).mean()\n",
    "    \n",
    "    df['open_close'] = df['close'] - df['open']\n",
    "    \n",
    "    df['ticker'] = ticker\n",
    "    \n",
    "    return df\n",
    "    "
   ]
  },
  {
   "cell_type": "code",
   "execution_count": 55,
   "id": "97a8350e",
   "metadata": {},
   "outputs": [],
   "source": [
    "def get_data_for_all_tickers(tickers):\n",
    "    \n",
    "    dfs = [get_historical_data(t) for t in tickers]\n",
    "    df = pd.concat(dfs, axis='index')\n",
    "    return df.sort_values(by='Date', axis='index')"
   ]
  },
  {
   "cell_type": "code",
   "execution_count": 56,
   "id": "79a77172",
   "metadata": {},
   "outputs": [
    {
     "name": "stdout",
     "output_type": "stream",
     "text": [
      "- BRK.B: No data found, symbol may be delisted\n",
      "- BF.B: No data found for this date range, symbol may be delisted\n"
     ]
    }
   ],
   "source": [
    "data = get_data_for_all_tickers(SAP_500_TICKERS)"
   ]
  },
  {
   "cell_type": "code",
   "execution_count": 59,
   "id": "23baf6b6",
   "metadata": {},
   "outputs": [],
   "source": [
    "data.to_csv(DATA_SAVE_PATH, compression='gzip')"
   ]
  },
  {
   "cell_type": "markdown",
   "id": "258c64c9",
   "metadata": {},
   "source": [
    "## Get data from storage"
   ]
  },
  {
   "cell_type": "code",
   "execution_count": 3,
   "id": "bdb2b3fd",
   "metadata": {
    "scrolled": true
   },
   "outputs": [],
   "source": [
    "data_raw = pd.read_csv(DATA_SAVE_PATH, index_col=['Date'], parse_dates=['Date'])"
   ]
  },
  {
   "cell_type": "code",
   "execution_count": 5,
   "id": "3680f44c",
   "metadata": {
    "scrolled": true
   },
   "outputs": [
    {
     "data": {
      "text/html": [
       "<div>\n",
       "<style scoped>\n",
       "    .dataframe tbody tr th:only-of-type {\n",
       "        vertical-align: middle;\n",
       "    }\n",
       "\n",
       "    .dataframe tbody tr th {\n",
       "        vertical-align: top;\n",
       "    }\n",
       "\n",
       "    .dataframe thead th {\n",
       "        text-align: right;\n",
       "    }\n",
       "</style>\n",
       "<table border=\"1\" class=\"dataframe\">\n",
       "  <thead>\n",
       "    <tr style=\"text-align: right;\">\n",
       "      <th></th>\n",
       "      <th>open</th>\n",
       "      <th>high</th>\n",
       "      <th>low</th>\n",
       "      <th>close</th>\n",
       "      <th>volume</th>\n",
       "      <th>dividends</th>\n",
       "      <th>stock_splits</th>\n",
       "      <th>open_ma_3</th>\n",
       "      <th>open_ma_5</th>\n",
       "      <th>open_ma_10</th>\n",
       "      <th>volume_ma_3</th>\n",
       "      <th>volume_ma_5</th>\n",
       "      <th>volume_ma_10</th>\n",
       "      <th>open_close</th>\n",
       "      <th>ticker</th>\n",
       "      <th>Adj Close</th>\n",
       "    </tr>\n",
       "    <tr>\n",
       "      <th>Date</th>\n",
       "      <th></th>\n",
       "      <th></th>\n",
       "      <th></th>\n",
       "      <th></th>\n",
       "      <th></th>\n",
       "      <th></th>\n",
       "      <th></th>\n",
       "      <th></th>\n",
       "      <th></th>\n",
       "      <th></th>\n",
       "      <th></th>\n",
       "      <th></th>\n",
       "      <th></th>\n",
       "      <th></th>\n",
       "      <th></th>\n",
       "      <th></th>\n",
       "    </tr>\n",
       "  </thead>\n",
       "  <tbody>\n",
       "    <tr>\n",
       "      <th>2017-02-09</th>\n",
       "      <td>NaN</td>\n",
       "      <td>NaN</td>\n",
       "      <td>NaN</td>\n",
       "      <td>NaN</td>\n",
       "      <td>NaN</td>\n",
       "      <td>0.1000</td>\n",
       "      <td>0.0</td>\n",
       "      <td>NaN</td>\n",
       "      <td>NaN</td>\n",
       "      <td>NaN</td>\n",
       "      <td>NaN</td>\n",
       "      <td>NaN</td>\n",
       "      <td>NaN</td>\n",
       "      <td>NaN</td>\n",
       "      <td>AAL</td>\n",
       "      <td>NaN</td>\n",
       "    </tr>\n",
       "    <tr>\n",
       "      <th>2017-02-09</th>\n",
       "      <td>NaN</td>\n",
       "      <td>NaN</td>\n",
       "      <td>NaN</td>\n",
       "      <td>NaN</td>\n",
       "      <td>NaN</td>\n",
       "      <td>1.2200</td>\n",
       "      <td>0.0</td>\n",
       "      <td>NaN</td>\n",
       "      <td>NaN</td>\n",
       "      <td>NaN</td>\n",
       "      <td>NaN</td>\n",
       "      <td>NaN</td>\n",
       "      <td>NaN</td>\n",
       "      <td>NaN</td>\n",
       "      <td>GWW</td>\n",
       "      <td>NaN</td>\n",
       "    </tr>\n",
       "    <tr>\n",
       "      <th>2017-02-09</th>\n",
       "      <td>NaN</td>\n",
       "      <td>NaN</td>\n",
       "      <td>NaN</td>\n",
       "      <td>NaN</td>\n",
       "      <td>NaN</td>\n",
       "      <td>0.1425</td>\n",
       "      <td>0.0</td>\n",
       "      <td>NaN</td>\n",
       "      <td>NaN</td>\n",
       "      <td>NaN</td>\n",
       "      <td>NaN</td>\n",
       "      <td>NaN</td>\n",
       "      <td>NaN</td>\n",
       "      <td>NaN</td>\n",
       "      <td>AAPL</td>\n",
       "      <td>NaN</td>\n",
       "    </tr>\n",
       "    <tr>\n",
       "      <th>2017-02-09</th>\n",
       "      <td>NaN</td>\n",
       "      <td>NaN</td>\n",
       "      <td>NaN</td>\n",
       "      <td>NaN</td>\n",
       "      <td>NaN</td>\n",
       "      <td>0.4000</td>\n",
       "      <td>0.0</td>\n",
       "      <td>NaN</td>\n",
       "      <td>NaN</td>\n",
       "      <td>NaN</td>\n",
       "      <td>NaN</td>\n",
       "      <td>NaN</td>\n",
       "      <td>NaN</td>\n",
       "      <td>NaN</td>\n",
       "      <td>COF</td>\n",
       "      <td>NaN</td>\n",
       "    </tr>\n",
       "    <tr>\n",
       "      <th>2017-02-09</th>\n",
       "      <td>NaN</td>\n",
       "      <td>NaN</td>\n",
       "      <td>NaN</td>\n",
       "      <td>NaN</td>\n",
       "      <td>NaN</td>\n",
       "      <td>0.7500</td>\n",
       "      <td>0.0</td>\n",
       "      <td>NaN</td>\n",
       "      <td>NaN</td>\n",
       "      <td>NaN</td>\n",
       "      <td>NaN</td>\n",
       "      <td>NaN</td>\n",
       "      <td>NaN</td>\n",
       "      <td>NaN</td>\n",
       "      <td>AMP</td>\n",
       "      <td>NaN</td>\n",
       "    </tr>\n",
       "  </tbody>\n",
       "</table>\n",
       "</div>"
      ],
      "text/plain": [
       "            open  high  low  close  volume  dividends  stock_splits  \\\n",
       "Date                                                                  \n",
       "2017-02-09   NaN   NaN  NaN    NaN     NaN     0.1000           0.0   \n",
       "2017-02-09   NaN   NaN  NaN    NaN     NaN     1.2200           0.0   \n",
       "2017-02-09   NaN   NaN  NaN    NaN     NaN     0.1425           0.0   \n",
       "2017-02-09   NaN   NaN  NaN    NaN     NaN     0.4000           0.0   \n",
       "2017-02-09   NaN   NaN  NaN    NaN     NaN     0.7500           0.0   \n",
       "\n",
       "            open_ma_3  open_ma_5  open_ma_10  volume_ma_3  volume_ma_5  \\\n",
       "Date                                                                     \n",
       "2017-02-09        NaN        NaN         NaN          NaN          NaN   \n",
       "2017-02-09        NaN        NaN         NaN          NaN          NaN   \n",
       "2017-02-09        NaN        NaN         NaN          NaN          NaN   \n",
       "2017-02-09        NaN        NaN         NaN          NaN          NaN   \n",
       "2017-02-09        NaN        NaN         NaN          NaN          NaN   \n",
       "\n",
       "            volume_ma_10  open_close ticker  Adj Close  \n",
       "Date                                                    \n",
       "2017-02-09           NaN         NaN    AAL        NaN  \n",
       "2017-02-09           NaN         NaN    GWW        NaN  \n",
       "2017-02-09           NaN         NaN   AAPL        NaN  \n",
       "2017-02-09           NaN         NaN    COF        NaN  \n",
       "2017-02-09           NaN         NaN    AMP        NaN  "
      ]
     },
     "execution_count": 5,
     "metadata": {},
     "output_type": "execute_result"
    }
   ],
   "source": [
    "data_raw.head()"
   ]
  },
  {
   "cell_type": "code",
   "execution_count": 6,
   "id": "b9759450",
   "metadata": {},
   "outputs": [
    {
     "data": {
      "text/plain": [
       "(626436, 16)"
      ]
     },
     "execution_count": 6,
     "metadata": {},
     "output_type": "execute_result"
    }
   ],
   "source": [
    "data_raw.shape"
   ]
  },
  {
   "cell_type": "markdown",
   "id": "9a74b3cd",
   "metadata": {},
   "source": [
    "## Data cleaning"
   ]
  },
  {
   "cell_type": "code",
   "execution_count": 7,
   "id": "46c52c3d",
   "metadata": {},
   "outputs": [],
   "source": [
    "# Adj close is nan for almost all entries\n",
    "data_raw.drop(['Adj Close'], axis=1, inplace=True)"
   ]
  },
  {
   "cell_type": "code",
   "execution_count": 8,
   "id": "c0382cd8",
   "metadata": {},
   "outputs": [],
   "source": [
    "# Extract days from dates\n",
    "data_raw['day_of_week'] = data_raw.index.dayofweek\n",
    "data_raw['day_of_month'] = data_raw.index.day\n",
    "#data['month'] = data.index.month <-- this gave worse results than when excluding it\n",
    "\n",
    "# Remove missing / bad values\n",
    "data_raw.replace([-np.Inf, np.Inf], np.nan, inplace=True)\n",
    "data_raw.dropna(how='any', inplace=True)"
   ]
  },
  {
   "cell_type": "code",
   "execution_count": 9,
   "id": "bd0b5915",
   "metadata": {},
   "outputs": [
    {
     "data": {
      "text/plain": [
       "Date      \n",
       "2017-02-24    492\n",
       "2020-04-01      2\n",
       "2017-05-25      1\n",
       "2018-05-09      1\n",
       "2018-12-20      1\n",
       "2019-03-25      1\n",
       "2019-03-26      1\n",
       "2019-04-02      1\n",
       "2019-06-07      1\n",
       "2021-05-27      1\n",
       "2022-02-01      1\n",
       "dtype: int64"
      ]
     },
     "execution_count": 9,
     "metadata": {},
     "output_type": "execute_result"
    }
   ],
   "source": [
    "# Get first date for each ticker\n",
    "ticker_date_groups = data_raw[['ticker']].reset_index().groupby(['ticker']).min()\n",
    "ticker_date_groups.value_counts()"
   ]
  },
  {
   "cell_type": "code",
   "execution_count": 10,
   "id": "91c5340b",
   "metadata": {},
   "outputs": [],
   "source": [
    "# Remove tickers which do not have data on 2017-02-24\n",
    "earliest_date = ticker_date_groups['Date'].min()\n",
    "recently_added_tickers = list(ticker_date_groups[ticker_date_groups['Date']>earliest_date].index)\n",
    "\n",
    "data_raw = data_raw[data_raw['ticker'].isin(recently_added_tickers)==False]"
   ]
  },
  {
   "cell_type": "code",
   "execution_count": 11,
   "id": "e55d9879",
   "metadata": {},
   "outputs": [],
   "source": [
    "# Subset data to only include top 50 tickers wrt total volume\n",
    "\n",
    "ticker_volume_means = data_raw[['ticker', 'volume']].groupby(['ticker']).mean().sort_values('volume', ascending=False)\n",
    "high_volume_tickers = list(ticker_volume_means.index[:50])\n",
    "\n",
    "data_raw = data_raw[data_raw['ticker'].isin(high_volume_tickers)==True]"
   ]
  },
  {
   "cell_type": "code",
   "execution_count": 12,
   "id": "3edf8698",
   "metadata": {},
   "outputs": [],
   "source": [
    "# Apply min-max scaling to each numeric variable\n",
    "\n",
    "data = data_raw.copy()\n",
    "\n",
    "non_ticker_cols = [c for c in data.columns if c != 'ticker']\n",
    "data[non_ticker_cols] = data[non_ticker_cols].apply(lambda x: (x - x.min()) / (x.max() - x.min()))"
   ]
  },
  {
   "cell_type": "code",
   "execution_count": 13,
   "id": "0d1cf371",
   "metadata": {},
   "outputs": [],
   "source": [
    "# Integer encoding of ticker symbols\n",
    "ticker_label_encoder = LabelEncoder().fit(data['ticker'])\n",
    "encoded_tickers = ticker_label_encoder.transform(data['ticker'])\n",
    "\n",
    "# One-hot encoding of ticker symbols\n",
    "one_hot_tickers = tf.keras.utils.to_categorical(encoded_tickers)\n",
    "one_hot_tickers_df = pd.DataFrame(one_hot_tickers, index=data.index)"
   ]
  },
  {
   "cell_type": "code",
   "execution_count": 14,
   "id": "8f227556",
   "metadata": {},
   "outputs": [],
   "source": [
    "# Split data into training and testing\n",
    "X_train_df, X_test_df, y_train_df, y_test_df = train_test_split(\n",
    "    data, one_hot_tickers_df, test_size=.2, random_state=11\n",
    ")\n",
    "\n",
    "# Split training data into training and validation\n",
    "X_train_df, X_valid_df, y_train_df, y_valid_df = train_test_split(\n",
    "    X_train_df, y_train_df, test_size=.15, random_state=13\n",
    ")"
   ]
  },
  {
   "cell_type": "code",
   "execution_count": 15,
   "id": "79d8cc8a",
   "metadata": {},
   "outputs": [],
   "source": [
    "# Hyper-parameters\n",
    "LATENT_DIM = 16\n",
    "BATCH_SIZE = 64"
   ]
  },
  {
   "cell_type": "code",
   "execution_count": 16,
   "id": "b5634564",
   "metadata": {},
   "outputs": [],
   "source": [
    "# Truncate data to be multiple of batch size\n",
    "train_truncate_val = X_train_df.shape[0] - X_train_df.shape[0] % BATCH_SIZE\n",
    "valid_truncate_val = X_valid_df.shape[0] - X_valid_df.shape[0] % BATCH_SIZE\n",
    "test_truncate_val = X_test_df.shape[0] - X_test_df.shape[0] % BATCH_SIZE\n",
    "\n",
    "X_train_df = X_train_df.iloc[:train_truncate_val, :]\n",
    "y_train_df = y_train_df.iloc[:train_truncate_val, :]\n",
    "\n",
    "X_valid_df = X_valid_df.iloc[:valid_truncate_val, :]\n",
    "y_valid_df = y_valid_df.iloc[:valid_truncate_val, :]\n",
    "\n",
    "X_test_df = X_test_df.iloc[:test_truncate_val, :]\n",
    "y_test_df = y_test_df.iloc[:test_truncate_val, :]"
   ]
  },
  {
   "cell_type": "code",
   "execution_count": 17,
   "id": "060eeb7a",
   "metadata": {},
   "outputs": [],
   "source": [
    "# Get numpy versions of dataframes for training\n",
    "X_train = X_train_df.drop(['ticker'], axis=1).to_numpy()\n",
    "y_train = y_train_df.to_numpy()\n",
    "\n",
    "X_valid = X_valid_df.drop(['ticker'], axis=1).to_numpy()\n",
    "y_valid = y_valid_df.to_numpy()\n",
    "\n",
    "X_test = X_test_df.drop(['ticker'], axis=1).to_numpy()\n",
    "y_test = y_test_df.to_numpy()"
   ]
  },
  {
   "cell_type": "markdown",
   "id": "b9d5ef40",
   "metadata": {},
   "source": [
    "## Creating Conditional Variational Autoencoder"
   ]
  },
  {
   "cell_type": "code",
   "execution_count": 114,
   "id": "c19c1db2",
   "metadata": {},
   "outputs": [],
   "source": [
    "# CVAE input layers\n",
    "X = Input(shape=(X_train.shape[1],), name='x_input')\n",
    "Y = Input(shape=(y_train.shape[1],), name='y_input')\n",
    "\n",
    "X_Y_concat = tf.keras.layers.concatenate([X, Y], name='x_y_concat')"
   ]
  },
  {
   "cell_type": "code",
   "execution_count": 115,
   "id": "fc707f96",
   "metadata": {},
   "outputs": [],
   "source": [
    "# Encoder specification\n",
    "encoder_dense_1 = Dense(128, activation='relu', name='encoder_dense_1')(X_Y_concat)\n",
    "encoder_dropout_1 = Dropout(.5, name='encoder_dropout_1')(encoder_dense_1)\n",
    "encoder_dense_2 = Dense(128, activation='relu', name='encoder_dense_2')(encoder_dropout_1)\n",
    "encoder_dropout_2 = Dropout(.5, name='encoder_dropout_2')(encoder_dense_2)\n",
    "encoder_dense_3 = Dense(128, activation='relu', name='encoder_dense_3')(encoder_dropout_2)\n",
    "encoder_dropout_3 = Dropout(.5, name='encoder_dropout_3')(encoder_dense_3)\n",
    "\n",
    "encoder_mu = Dense(LATENT_DIM, activation='linear', name='encoder_mu')(encoder_dropout_3)\n",
    "encoder_log_sigma = Dense(LATENT_DIM, activation='linear', name='encoder_log_sigma')(encoder_dropout_3)\n",
    "\n",
    "encoder = Model([X, Y], encoder_mu, name='encoder')"
   ]
  },
  {
   "cell_type": "code",
   "execution_count": 116,
   "id": "c027c456",
   "metadata": {},
   "outputs": [
    {
     "name": "stdout",
     "output_type": "stream",
     "text": [
      "Model: \"encoder\"\n",
      "__________________________________________________________________________________________________\n",
      " Layer (type)                   Output Shape         Param #     Connected to                     \n",
      "==================================================================================================\n",
      " x_input (InputLayer)           [(None, 16)]         0           []                               \n",
      "                                                                                                  \n",
      " y_input (InputLayer)           [(None, 50)]         0           []                               \n",
      "                                                                                                  \n",
      " x_y_concat (Concatenate)       (None, 66)           0           ['x_input[0][0]',                \n",
      "                                                                  'y_input[0][0]']                \n",
      "                                                                                                  \n",
      " encoder_dense_1 (Dense)        (None, 128)          8576        ['x_y_concat[0][0]']             \n",
      "                                                                                                  \n",
      " encoder_dropout_1 (Dropout)    (None, 128)          0           ['encoder_dense_1[0][0]']        \n",
      "                                                                                                  \n",
      " encoder_dense_2 (Dense)        (None, 128)          16512       ['encoder_dropout_1[0][0]']      \n",
      "                                                                                                  \n",
      " encoder_dropout_2 (Dropout)    (None, 128)          0           ['encoder_dense_2[0][0]']        \n",
      "                                                                                                  \n",
      " encoder_dense_3 (Dense)        (None, 128)          16512       ['encoder_dropout_2[0][0]']      \n",
      "                                                                                                  \n",
      " encoder_dropout_3 (Dropout)    (None, 128)          0           ['encoder_dense_3[0][0]']        \n",
      "                                                                                                  \n",
      " encoder_mu (Dense)             (None, 16)           2064        ['encoder_dropout_3[0][0]']      \n",
      "                                                                                                  \n",
      "==================================================================================================\n",
      "Total params: 43,664\n",
      "Trainable params: 43,664\n",
      "Non-trainable params: 0\n",
      "__________________________________________________________________________________________________\n"
     ]
    }
   ],
   "source": [
    "encoder.summary()"
   ]
  },
  {
   "cell_type": "code",
   "execution_count": 117,
   "id": "a1a4e194",
   "metadata": {},
   "outputs": [],
   "source": [
    "# Reparameterization and concatenation layers / specification\n",
    "def sample_and_reparameterize(mu_logsigma):\n",
    "    mu, log_sigma = mu_logsigma\n",
    "    eps = K.random_normal(shape=(LATENT_DIM,))\n",
    "    return mu + K.exp(log_sigma * .5) * eps\n",
    "\n",
    "Z = tf.keras.layers.Lambda(sample_and_reparameterize, output_shape=(LATENT_DIM,), \n",
    "                        name='sample_and_reparameterize')([encoder_mu, encoder_log_sigma])\n",
    "\n",
    "Z_Y_concat = tf.keras.layers.concatenate([Z, Y], name='z_y_concat')"
   ]
  },
  {
   "cell_type": "code",
   "execution_count": 118,
   "id": "8bf40b72",
   "metadata": {},
   "outputs": [],
   "source": [
    "# Loss functions\n",
    "def reconstruction_loss(x_true, x_pred):\n",
    "    cross_entropy = K.binary_crossentropy(x_true, x_pred)\n",
    "    return K.sum(cross_entropy, axis=-1)\n",
    "\n",
    "def kl_divergence(x_true, x_pred, emu, els):\n",
    "    _ = K.exp(els) + K.square(emu) - 1. - els\n",
    "    return .5 * K.sum(_, axis=1)\n",
    "\n",
    "def vae_loss(x_true, x_pred, emu, els):\n",
    "    return reconstruction_loss(x_true, x_pred) + kl_divergence(x_true, x_pred, emu, els)"
   ]
  },
  {
   "cell_type": "code",
   "execution_count": 119,
   "id": "ec438670",
   "metadata": {},
   "outputs": [],
   "source": [
    "# Decoder layers\n",
    "decoder_dense_layer_1 = Dense(128, activation='relu', name='decoder_dense_1')\n",
    "decoder_dropout_layer_1 = Dropout(.5, name='decoder_dropout_1')\n",
    "decoder_dense_layer_2 = Dense(128, activation='relu', name='decoder_dense_2')\n",
    "decoder_dropout_layer_2 = Dropout(.5, name='decoder_dropout_2')\n",
    "decoder_dense_layer_3 = Dense(128, activation='relu', name='decoder_dense_3')\n",
    "decoder_dropout_layer_3 = Dropout(.5, name='decoder_dropout_3')\n",
    "decoder_output_layer = Dense(X_train.shape[1], activation='sigmoid', name='decoder_output')\n",
    "\n",
    "# Decoder specification\n",
    "d1 = decoder_dense_layer_1(Z_Y_concat)\n",
    "d2 = decoder_dropout_layer_1(d1)\n",
    "d3 = decoder_dense_layer_2(d2)\n",
    "d4 = decoder_dropout_layer_2(d3)\n",
    "d5 = decoder_dense_layer_3(d4)\n",
    "d6 = decoder_dropout_layer_3(d5)\n",
    "cvae_output = decoder_output_layer(d6)\n",
    "\n",
    "decoder_input = Input(shape=(LATENT_DIM+y_train.shape[1],), name='decoder_input')\n",
    "decoder_dense_1 = decoder_dense_layer_1(decoder_input)\n",
    "decoder_dropout_1 = decoder_dropout_layer_1(decoder_dense_1)\n",
    "decoder_dense_2 = decoder_dense_layer_2(decoder_dropout_1)\n",
    "decoder_dropout_2 = decoder_dropout_layer_2(decoder_dense_2)\n",
    "decoder_dense_3 = decoder_dense_layer_3(decoder_dropout_2)\n",
    "decoder_dropout_3 = decoder_dropout_layer_3(decoder_dense_3)\n",
    "decoder_output = decoder_output_layer(decoder_dropout_3)\n",
    "\n",
    "decoder = Model(decoder_input, decoder_output, name='decoder')\n",
    "\n",
    "cvae = Model([X, Y], cvae_output, name='cvae')"
   ]
  },
  {
   "cell_type": "code",
   "execution_count": 120,
   "id": "f5641ae7",
   "metadata": {
    "scrolled": false
   },
   "outputs": [
    {
     "name": "stdout",
     "output_type": "stream",
     "text": [
      "Model: \"decoder\"\n",
      "_________________________________________________________________\n",
      " Layer (type)                Output Shape              Param #   \n",
      "=================================================================\n",
      " decoder_input (InputLayer)  [(None, 66)]              0         \n",
      "                                                                 \n",
      " decoder_dense_1 (Dense)     (None, 128)               8576      \n",
      "                                                                 \n",
      " decoder_dropout_1 (Dropout)  (None, 128)              0         \n",
      "                                                                 \n",
      " decoder_dense_2 (Dense)     (None, 128)               16512     \n",
      "                                                                 \n",
      " decoder_dropout_2 (Dropout)  (None, 128)              0         \n",
      "                                                                 \n",
      " decoder_dense_3 (Dense)     (None, 128)               16512     \n",
      "                                                                 \n",
      " decoder_dropout_3 (Dropout)  (None, 128)              0         \n",
      "                                                                 \n",
      " decoder_output (Dense)      (None, 16)                2064      \n",
      "                                                                 \n",
      "=================================================================\n",
      "Total params: 43,664\n",
      "Trainable params: 43,664\n",
      "Non-trainable params: 0\n",
      "_________________________________________________________________\n"
     ]
    }
   ],
   "source": [
    "decoder.summary()"
   ]
  },
  {
   "cell_type": "code",
   "execution_count": 121,
   "id": "d7705230",
   "metadata": {
    "scrolled": false
   },
   "outputs": [
    {
     "name": "stdout",
     "output_type": "stream",
     "text": [
      "Model: \"cvae\"\n",
      "__________________________________________________________________________________________________\n",
      " Layer (type)                   Output Shape         Param #     Connected to                     \n",
      "==================================================================================================\n",
      " x_input (InputLayer)           [(None, 16)]         0           []                               \n",
      "                                                                                                  \n",
      " y_input (InputLayer)           [(None, 50)]         0           []                               \n",
      "                                                                                                  \n",
      " x_y_concat (Concatenate)       (None, 66)           0           ['x_input[0][0]',                \n",
      "                                                                  'y_input[0][0]']                \n",
      "                                                                                                  \n",
      " encoder_dense_1 (Dense)        (None, 128)          8576        ['x_y_concat[0][0]']             \n",
      "                                                                                                  \n",
      " encoder_dropout_1 (Dropout)    (None, 128)          0           ['encoder_dense_1[0][0]']        \n",
      "                                                                                                  \n",
      " encoder_dense_2 (Dense)        (None, 128)          16512       ['encoder_dropout_1[0][0]']      \n",
      "                                                                                                  \n",
      " encoder_dropout_2 (Dropout)    (None, 128)          0           ['encoder_dense_2[0][0]']        \n",
      "                                                                                                  \n",
      " encoder_dense_3 (Dense)        (None, 128)          16512       ['encoder_dropout_2[0][0]']      \n",
      "                                                                                                  \n",
      " encoder_dropout_3 (Dropout)    (None, 128)          0           ['encoder_dense_3[0][0]']        \n",
      "                                                                                                  \n",
      " encoder_mu (Dense)             (None, 16)           2064        ['encoder_dropout_3[0][0]']      \n",
      "                                                                                                  \n",
      " encoder_log_sigma (Dense)      (None, 16)           2064        ['encoder_dropout_3[0][0]']      \n",
      "                                                                                                  \n",
      " sample_and_reparameterize (Lam  (None, 16)          0           ['encoder_mu[0][0]',             \n",
      " bda)                                                             'encoder_log_sigma[0][0]']      \n",
      "                                                                                                  \n",
      " z_y_concat (Concatenate)       (None, 66)           0           ['sample_and_reparameterize[0][0]\n",
      "                                                                 ',                               \n",
      "                                                                  'y_input[0][0]']                \n",
      "                                                                                                  \n",
      " decoder_dense_1 (Dense)        (None, 128)          8576        ['z_y_concat[0][0]']             \n",
      "                                                                                                  \n",
      " decoder_dropout_1 (Dropout)    (None, 128)          0           ['decoder_dense_1[0][0]']        \n",
      "                                                                                                  \n",
      " decoder_dense_2 (Dense)        (None, 128)          16512       ['decoder_dropout_1[0][0]']      \n",
      "                                                                                                  \n",
      " decoder_dropout_2 (Dropout)    (None, 128)          0           ['decoder_dense_2[0][0]']        \n",
      "                                                                                                  \n",
      " decoder_dense_3 (Dense)        (None, 128)          16512       ['decoder_dropout_2[0][0]']      \n",
      "                                                                                                  \n",
      " decoder_dropout_3 (Dropout)    (None, 128)          0           ['decoder_dense_3[0][0]']        \n",
      "                                                                                                  \n",
      " decoder_output (Dense)         (None, 16)           2064        ['decoder_dropout_3[0][0]']      \n",
      "                                                                                                  \n",
      "==================================================================================================\n",
      "Total params: 89,392\n",
      "Trainable params: 89,392\n",
      "Non-trainable params: 0\n",
      "__________________________________________________________________________________________________\n"
     ]
    }
   ],
   "source": [
    "cvae.summary()"
   ]
  },
  {
   "cell_type": "markdown",
   "id": "dea54ad9",
   "metadata": {},
   "source": [
    "## Model training"
   ]
  },
  {
   "cell_type": "code",
   "execution_count": 122,
   "id": "bee21db8",
   "metadata": {},
   "outputs": [
    {
     "name": "stdout",
     "output_type": "stream",
     "text": [
      "Epoch 1/100\n",
      "664/664 [==============================] - 2s 2ms/step - loss: 4.6533 - reconstruction_loss: 4.6471 - kl_divergence: 0.0062 - val_loss: 4.2144 - val_reconstruction_loss: 4.2137 - val_kl_divergence: 6.1267e-04 - lr: 0.0010\n",
      "Epoch 2/100\n",
      "664/664 [==============================] - 1s 2ms/step - loss: 4.2251 - reconstruction_loss: 4.2240 - kl_divergence: 0.0011 - val_loss: 4.1531 - val_reconstruction_loss: 4.1529 - val_kl_divergence: 1.9916e-04 - lr: 0.0010\n",
      "Epoch 3/100\n",
      "664/664 [==============================] - 1s 2ms/step - loss: 4.1559 - reconstruction_loss: 4.1555 - kl_divergence: 3.5311e-04 - val_loss: 4.0732 - val_reconstruction_loss: 4.0732 - val_kl_divergence: 2.5856e-05 - lr: 0.0010\n",
      "Epoch 4/100\n",
      "664/664 [==============================] - 1s 2ms/step - loss: 4.1075 - reconstruction_loss: 4.1074 - kl_divergence: 9.4424e-05 - val_loss: 4.0574 - val_reconstruction_loss: 4.0574 - val_kl_divergence: 6.4854e-06 - lr: 0.0010\n",
      "Epoch 5/100\n",
      "664/664 [==============================] - 1s 2ms/step - loss: 4.0866 - reconstruction_loss: 4.0866 - kl_divergence: 4.0003e-05 - val_loss: 4.0492 - val_reconstruction_loss: 4.0491 - val_kl_divergence: 3.0265e-06 - lr: 0.0010\n",
      "Epoch 6/100\n",
      "664/664 [==============================] - 1s 2ms/step - loss: 4.0760 - reconstruction_loss: 4.0760 - kl_divergence: 1.0970e-05 - val_loss: 4.0517 - val_reconstruction_loss: 4.0517 - val_kl_divergence: 1.2992e-06 - lr: 0.0010\n",
      "Epoch 7/100\n",
      "664/664 [==============================] - 1s 2ms/step - loss: 4.0689 - reconstruction_loss: 4.0689 - kl_divergence: 5.4336e-06 - val_loss: 4.0501 - val_reconstruction_loss: 4.0501 - val_kl_divergence: 1.3260e-06 - lr: 0.0010\n",
      "Epoch 8/100\n",
      "664/664 [==============================] - 1s 2ms/step - loss: 4.0635 - reconstruction_loss: 4.0635 - kl_divergence: 5.1860e-06 - val_loss: 4.0507 - val_reconstruction_loss: 4.0507 - val_kl_divergence: 1.9892e-06 - lr: 0.0010\n",
      "Epoch 9/100\n",
      "664/664 [==============================] - 1s 2ms/step - loss: 4.0603 - reconstruction_loss: 4.0603 - kl_divergence: 1.4482e-06 - val_loss: 4.0472 - val_reconstruction_loss: 4.0472 - val_kl_divergence: 3.1340e-07 - lr: 1.0000e-04\n",
      "Epoch 10/100\n",
      "664/664 [==============================] - 1s 2ms/step - loss: 4.0594 - reconstruction_loss: 4.0594 - kl_divergence: 1.1688e-06 - val_loss: 4.0471 - val_reconstruction_loss: 4.0471 - val_kl_divergence: 3.1008e-07 - lr: 1.0000e-04\n",
      "Epoch 11/100\n",
      "664/664 [==============================] - 1s 2ms/step - loss: 4.0588 - reconstruction_loss: 4.0588 - kl_divergence: 7.6551e-07 - val_loss: 4.0475 - val_reconstruction_loss: 4.0475 - val_kl_divergence: 6.9414e-07 - lr: 1.0000e-04\n",
      "Epoch 12/100\n",
      "664/664 [==============================] - 1s 2ms/step - loss: 4.0588 - reconstruction_loss: 4.0588 - kl_divergence: 8.1767e-07 - val_loss: 4.0476 - val_reconstruction_loss: 4.0476 - val_kl_divergence: 8.6795e-08 - lr: 1.0000e-04\n",
      "Epoch 13/100\n",
      "664/664 [==============================] - 2s 3ms/step - loss: 4.0577 - reconstruction_loss: 4.0577 - kl_divergence: 7.3376e-07 - val_loss: 4.0472 - val_reconstruction_loss: 4.0472 - val_kl_divergence: 4.5864e-08 - lr: 1.0000e-05\n",
      "Epoch 14/100\n",
      "664/664 [==============================] - 2s 3ms/step - loss: 4.0572 - reconstruction_loss: 4.0572 - kl_divergence: 4.0279e-07 - val_loss: 4.0470 - val_reconstruction_loss: 4.0470 - val_kl_divergence: 1.4574e-08 - lr: 1.0000e-05\n"
     ]
    }
   ],
   "source": [
    "if len(cvae.losses) == 0:\n",
    "    cvae.add_loss(vae_loss(X, cvae_output, encoder_mu, encoder_log_sigma))\n",
    "    \n",
    "if len(cvae.metrics) == 0:\n",
    "    cvae.add_metric(reconstruction_loss(X, cvae_output), name='reconstruction_loss')\n",
    "    cvae.add_metric(kl_divergence(X, cvae_output, encoder_mu, encoder_log_sigma), name='kl_divergence')\n",
    "    \n",
    "cvae.compile(optimizer=tf.keras.optimizers.Adam(1e-3), loss=None)\n",
    "\n",
    "early_stop_clbk = tf.keras.callbacks.EarlyStopping(monitor='val_loss', min_delta=.001, patience=5)\n",
    "reduce_lr_clbk = tf.keras.callbacks.ReduceLROnPlateau(monitor='val_loss', min_delta=.001, patience=3)\n",
    "\n",
    "callbacks = [early_stop_clbk, reduce_lr_clbk]\n",
    "\n",
    "cvae_training_history = cvae.fit(\n",
    "    [X_train, y_train], X_train,\n",
    "    batch_size=BATCH_SIZE, epochs=100,\n",
    "    validation_data=([X_valid, y_valid], X_valid),\n",
    "    callbacks=callbacks\n",
    ").history"
   ]
  },
  {
   "cell_type": "markdown",
   "id": "155d7625",
   "metadata": {},
   "source": [
    "## Evaluate model on test data"
   ]
  },
  {
   "cell_type": "code",
   "execution_count": 123,
   "id": "e8beb5e2",
   "metadata": {},
   "outputs": [
    {
     "name": "stdout",
     "output_type": "stream",
     "text": [
      "195/195 [==============================] - 0s 828us/step - loss: 4.0447 - reconstruction_loss: 4.0447 - kl_divergence: 1.4605e-08\n"
     ]
    }
   ],
   "source": [
    "# Calculate loss and metrics over test set\n",
    "cvae.evaluate(x=[X_test, y_test], y=X_test,\n",
    "              batch_size=BATCH_SIZE\n",
    "             );"
   ]
  },
  {
   "cell_type": "markdown",
   "id": "116f8912",
   "metadata": {},
   "source": [
    "## Find anomalous data points"
   ]
  },
  {
   "cell_type": "code",
   "execution_count": 124,
   "id": "1a6ed819",
   "metadata": {},
   "outputs": [],
   "source": [
    "# It would take about 20 mins to get the individual loss and metrics for each observation in the test set\n",
    "# since we would have to evaluate with batches of size 1, so we will only look at a subset of the test data\n",
    "\n",
    "np.random.seed(19)\n",
    "test_evaluation_indices = np.random.choice(np.arange(X_test.shape[0]), replace=False, size=1500)"
   ]
  },
  {
   "cell_type": "code",
   "execution_count": 125,
   "id": "45d86e44",
   "metadata": {},
   "outputs": [],
   "source": [
    "# Get reconstruction error for each observation in subset of test set\n",
    "\n",
    "test_index_recon_loss_dict = {}\n",
    "for index in test_evaluation_indices:\n",
    "        \n",
    "    X = X_test[index:index+1, :]\n",
    "    y = y_test[index:index+1, :]\n",
    "    \n",
    "    loss_dict = cvae.evaluate(x=[X, y], y=y, \n",
    "                              batch_size=1, return_dict=True, verbose=0)\n",
    "    \n",
    "    test_index_recon_loss_dict[index] = loss_dict['reconstruction_loss']"
   ]
  },
  {
   "cell_type": "code",
   "execution_count": 126,
   "id": "c59e3d88",
   "metadata": {},
   "outputs": [
    {
     "data": {
      "image/png": "[encoded data removed]",
      "text/plain": [
       "<Figure size 432x288 with 1 Axes>"
      ]
     },
     "metadata": {
      "needs_background": "light"
     },
     "output_type": "display_data"
    }
   ],
   "source": [
    "plt.hist(test_index_recon_loss_dict.values())\n",
    "plt.xlabel('reconstruction_loss')\n",
    "plt.ylabel('number of occurences')\n",
    "plt.title('reconstruction loss frequencies in subset of test data');"
   ]
  },
  {
   "cell_type": "code",
   "execution_count": 127,
   "id": "04289ef6",
   "metadata": {},
   "outputs": [
    {
     "name": "stdout",
     "output_type": "stream",
     "text": [
      "reconstruction_loss percentiles in subset of test set\n",
      "90th percentile: 5.462898683547976\n",
      "95th percentile: 6.137582564353942\n",
      "97.5th percentile: 6.752549695968627\n",
      "99th percentile: 7.637394232749939\n"
     ]
    }
   ],
   "source": [
    "print('reconstruction_loss percentiles in subset of test set')\n",
    "print(f'90th percentile: {np.percentile(list(test_index_recon_loss_dict.values()), 90)}')\n",
    "print(f'95th percentile: {np.percentile(list(test_index_recon_loss_dict.values()), 95)}')\n",
    "print(f'97.5th percentile: {np.percentile(list(test_index_recon_loss_dict.values()), 97.5)}')\n",
    "print(f'99th percentile: {np.percentile(list(test_index_recon_loss_dict.values()), 99)}')"
   ]
  },
  {
   "cell_type": "code",
   "execution_count": 158,
   "id": "3f89694a",
   "metadata": {},
   "outputs": [],
   "source": [
    "# We'll consider any reconstruction loss above ANOMALY_THRESHOLD_VALUE as anomalous\n",
    "ANOMALY_THRESHOLD_VALUE = np.percentile(list(test_index_recon_loss_dict.values()), 98)"
   ]
  },
  {
   "cell_type": "code",
   "execution_count": 159,
   "id": "c41fc747",
   "metadata": {},
   "outputs": [],
   "source": [
    "anomalous_test_set_indices = [index for \n",
    "                              index, recon_loss in test_index_recon_loss_dict.items()\n",
    "                              if recon_loss >= ANOMALY_THRESHOLD_VALUE]"
   ]
  },
  {
   "cell_type": "code",
   "execution_count": 160,
   "id": "a7e0e27f",
   "metadata": {},
   "outputs": [
    {
     "data": {
      "text/plain": [
       "TSLA    11\n",
       "FB       7\n",
       "MSFT     4\n",
       "NVDA     3\n",
       "AAPL     3\n",
       "CCL      1\n",
       "BA       1\n",
       "Name: ticker, dtype: int64"
      ]
     },
     "execution_count": 160,
     "metadata": {},
     "output_type": "execute_result"
    }
   ],
   "source": [
    "anomalies_per_ticker_df = X_test_df['ticker'].iloc[anomalous_test_set_indices].value_counts()\n",
    "most_anomalous_stocks = list(anomalies_per_ticker_df.index)\n",
    "anomalies_per_ticker_df"
   ]
  },
  {
   "cell_type": "code",
   "execution_count": 166,
   "id": "b88ca828",
   "metadata": {},
   "outputs": [
    {
     "name": "stdout",
     "output_type": "stream",
     "text": [
      "anomalous stock: TSLA --- number of anomalies: 11\n"
     ]
    }
   ],
   "source": [
    "# Let's take a look at a particular stock\n",
    "anomalous_stock = 'TSLA'\n",
    "\n",
    "X_test_df_anomalous = X_test_df.iloc[anomalous_test_set_indices, :] \n",
    "anomalous_stock_anomaly_dates = list(X_test_df_anomalous[X_test_df_anomalous['ticker']==anomalous_stock].index)\n",
    "\n",
    "print(f'anomalous stock: {anomalous_stock} --- number of anomalies: {len(anomalous_stock_anomaly_dates)}')"
   ]
  },
  {
   "cell_type": "code",
   "execution_count": 167,
   "id": "2b8b3b16",
   "metadata": {},
   "outputs": [],
   "source": [
    "first_anomaly = min(anomalous_stock_anomaly_dates)\n",
    "first_plot_date = first_anomaly - pd.to_timedelta(20, unit='d')\n",
    "\n",
    "X_anomalous_stock_df = data_raw[data_raw['ticker']==anomalous_stock]\n",
    "X_anomalous_stock_df = X_anomalous_stock_df[X_anomalous_stock_df.index>=first_plot_date]\n",
    "X_anomalous_stock_df = X_anomalous_stock_df.sort_values(axis=0, by='Date')"
   ]
  },
  {
   "cell_type": "code",
   "execution_count": 168,
   "id": "a104c096",
   "metadata": {},
   "outputs": [
    {
     "data": {
      "image/png": "[encoded data removed]",
      "text/plain": [
       "<Figure size 864x1296 with 4 Axes>"
      ]
     },
     "metadata": {
      "needs_background": "light"
     },
     "output_type": "display_data"
    }
   ],
   "source": [
    "plot_vars = ['high', 'low', 'open_close', 'volume']\n",
    "\n",
    "fig, axs = plt.subplots(len(plot_vars), 1, sharex=True, figsize=(12, 18))\n",
    "for a, (ax, var) in enumerate(zip(axs, plot_vars)):\n",
    "    \n",
    "    ax.plot(X_anomalous_stock_df[var])\n",
    "    \n",
    "    ymin = X_anomalous_stock_df[var].min()\n",
    "    ymax = X_anomalous_stock_df[var].max()\n",
    "        \n",
    "    for date in anomalous_stock_anomaly_dates:\n",
    "        ax.vlines(x=date, \n",
    "                   ymin=ymin, ymax=ymax,\n",
    "                   color='red', linestyle='dashed'\n",
    "                  )\n",
    "        \n",
    "    \n",
    "    ax.grid(True)\n",
    "    ax.set_ylabel(var)\n",
    "    "
   ]
  },
  {
   "cell_type": "code",
   "execution_count": 169,
   "id": "ffb35387",
   "metadata": {},
   "outputs": [
    {
     "data": {
      "text/plain": [
       "[Timestamp('2020-02-06 00:00:00'),\n",
       " Timestamp('2020-02-14 00:00:00'),\n",
       " Timestamp('2020-04-29 00:00:00'),\n",
       " Timestamp('2021-01-05 00:00:00'),\n",
       " Timestamp('2021-01-13 00:00:00'),\n",
       " Timestamp('2021-01-27 00:00:00'),\n",
       " Timestamp('2021-02-18 00:00:00'),\n",
       " Timestamp('2021-05-10 00:00:00'),\n",
       " Timestamp('2021-11-03 00:00:00'),\n",
       " Timestamp('2022-01-26 00:00:00'),\n",
       " Timestamp('2022-01-31 00:00:00')]"
      ]
     },
     "execution_count": 169,
     "metadata": {},
     "output_type": "execute_result"
    }
   ],
   "source": [
    "sorted(anomalous_stock_anomaly_dates)"
   ]
  },
  {
   "cell_type": "markdown",
   "id": "221fc718",
   "metadata": {},
   "source": [
    "Looking up those dates on the Internet, we find...\n",
    "\n",
    "**Tesla temporarily closes China stores amid coronavirus fears**\n",
    "https://www.cnbc.com/2020/02/06/tesla-temporarily-closes-china-stores-amid-virus-fears.html (2020-02-06)\n",
    "\n",
    "**U.S. vehicle safety agency asks Tesla to recall 158,716 older vehicles over touchscreen glitches**\n",
    "https://www.cnbc.com/2021/01/13/nhtsa-asks-tesla-to-recall-158716-model-x-s-over-touchscreen-glitch.html (2021-01-13)\n",
    "\n",
    "**JD Power says Lexus is most dependable auto brand, ranks Tesla 30th out of 33**\n",
    "https://www.cnbc.com/2021/02/18/tesla-ranks-30th-in-unofficial-debut-on-jd-power-dependability-study.html (2021-02-18)\n",
    "\n",
    "**NTSB releases preliminary report on fatal Tesla crash in Spring, Texas**\n",
    "https://www.cnbc.com/2021/05/10/ntsb-releases-preliminary-report-on-fatal-tesla-crash-in-spring-texas.html\n",
    "\n",
    "**Tesla beats on earnings and revenue, says supply chain issues were ‘main limiting factor’**\n",
    "https://www.cnbc.com/2022/01/26/tesla-tsla-earnings-q4-2021.html (2021-01-26)"
   ]
  }
 ],
 "metadata": {
  "kernelspec": {
   "display_name": "Python [conda env:tf_env]",
   "language": "python",
   "name": "conda-env-tf_env-py"
  },
  "language_info": {
   "codemirror_mode": {
    "name": "ipython",
    "version": 3
   },
   "file_extension": ".py",
   "mimetype": "text/x-python",
   "name": "python",
   "nbconvert_exporter": "python",
   "pygments_lexer": "ipython3",
   "version": "3.9.7"
  }
 },
 "nbformat": 4,
 "nbformat_minor": 5
}
