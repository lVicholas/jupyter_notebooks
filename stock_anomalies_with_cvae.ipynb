{
 "cells": [
  {
   "cell_type": "markdown",
   "id": "36a6bbe8",
   "metadata": {},
   "source": [
    "# Using a Variational Autoencoder to detect anomalies in stock data"
   ]
  },
  {
   "cell_type": "markdown",
   "id": "18d05cd9",
   "metadata": {},
   "source": [
    "In this notebook, I use a Conditional Variational Autoencoder to detect 'anomalies' in stock market data. I put 'anomalies' in quotes because what is considered anomalous isn't exactly well-defined. In this notebook, I treat the reconstruction loss (sum of MSEs for each variable) of each stock's daily values as a measure of how anomalous that stock was on that day: in this case, I consider something to be an anomaly if it has an abnormally high reconstruction loss. Note that this definition requires the variables to be on the same scale, otherwise a stock's volume would be the overwhelming contributor to a stock's reconstruction loss."
   ]
  },
  {
   "cell_type": "code",
   "execution_count": 16,
   "id": "4db99d53",
   "metadata": {},
   "outputs": [],
   "source": [
    "import pandas as pd\n",
    "import yfinance as yf\n",
    "import numpy as np\n",
    "\n",
    "from sklearn.model_selection import train_test_split\n",
    "from sklearn.preprocessing import LabelEncoder, OneHotEncoder, MinMaxScaler, StandardScaler\n",
    "\n",
    "import tensorflow as tf\n",
    "from tensorflow.keras.layers import Input, concatenate, Reshape, Flatten, Concatenate\n",
    "from tensorflow.keras.layers import Dense, Dropout, LSTM\n",
    "from tensorflow.keras.layers import BatchNormalization as BatchNorm\n",
    "from tensorflow.keras import Model\n",
    "from keras import backend as K\n",
    "\n",
    "import matplotlib.pyplot as plt\n",
    "import seaborn as sns"
   ]
  },
  {
   "cell_type": "code",
   "execution_count": 2,
   "id": "b2c3e84f",
   "metadata": {},
   "outputs": [
    {
     "data": {
      "text/plain": [
       "['MMM', 'AOS', 'ABT', 'ABBV', 'ABMD', 'ACN', 'ATVI', 'ADM', 'ADBE', 'ADP']"
      ]
     },
     "execution_count": 2,
     "metadata": {},
     "output_type": "execute_result"
    }
   ],
   "source": [
    "# Get S&P500 ticker symbols\n",
    "_ = pd.read_html('https://en.wikipedia.org/wiki/List_of_S%26P_500_companies')\n",
    "SAP_500_TICKERS = list(_[0]['Symbol'])\n",
    "SAP_500_TICKERS[:10]"
   ]
  },
  {
   "cell_type": "code",
   "execution_count": 3,
   "id": "03c8d969",
   "metadata": {},
   "outputs": [],
   "source": [
    "DATA_SAVE_DIR = 'C:/_local/data_sets/'\n",
    "DATA_SAVE_FILE_NAME = 's&p_500_5y_data.gz'\n",
    "DATA_SAVE_PATH = DATA_SAVE_DIR + DATA_SAVE_FILE_NAME"
   ]
  },
  {
   "cell_type": "markdown",
   "id": "258c64c9",
   "metadata": {},
   "source": [
    "## Load data"
   ]
  },
  {
   "cell_type": "markdown",
   "id": "d0cd701f",
   "metadata": {},
   "source": [
    "The following file was created using the Yahoo Finance API yfinance."
   ]
  },
  {
   "cell_type": "code",
   "execution_count": 4,
   "id": "bdb2b3fd",
   "metadata": {
    "scrolled": true
   },
   "outputs": [],
   "source": [
    "data_src = pd.read_csv(DATA_SAVE_PATH, index_col=['Date'], parse_dates=['Date'])"
   ]
  },
  {
   "cell_type": "code",
   "execution_count": 5,
   "id": "3680f44c",
   "metadata": {
    "scrolled": false
   },
   "outputs": [
    {
     "data": {
      "text/html": [
       "<div>\n",
       "<style scoped>\n",
       "    .dataframe tbody tr th:only-of-type {\n",
       "        vertical-align: middle;\n",
       "    }\n",
       "\n",
       "    .dataframe tbody tr th {\n",
       "        vertical-align: top;\n",
       "    }\n",
       "\n",
       "    .dataframe thead th {\n",
       "        text-align: right;\n",
       "    }\n",
       "</style>\n",
       "<table border=\"1\" class=\"dataframe\">\n",
       "  <thead>\n",
       "    <tr style=\"text-align: right;\">\n",
       "      <th></th>\n",
       "      <th>open</th>\n",
       "      <th>high</th>\n",
       "      <th>low</th>\n",
       "      <th>close</th>\n",
       "      <th>volume</th>\n",
       "      <th>dividends</th>\n",
       "      <th>stock_splits</th>\n",
       "      <th>open_ma_3</th>\n",
       "      <th>open_ma_5</th>\n",
       "      <th>open_ma_10</th>\n",
       "      <th>volume_ma_3</th>\n",
       "      <th>volume_ma_5</th>\n",
       "      <th>volume_ma_10</th>\n",
       "      <th>open_close</th>\n",
       "      <th>ticker</th>\n",
       "      <th>Adj Close</th>\n",
       "    </tr>\n",
       "    <tr>\n",
       "      <th>Date</th>\n",
       "      <th></th>\n",
       "      <th></th>\n",
       "      <th></th>\n",
       "      <th></th>\n",
       "      <th></th>\n",
       "      <th></th>\n",
       "      <th></th>\n",
       "      <th></th>\n",
       "      <th></th>\n",
       "      <th></th>\n",
       "      <th></th>\n",
       "      <th></th>\n",
       "      <th></th>\n",
       "      <th></th>\n",
       "      <th></th>\n",
       "      <th></th>\n",
       "    </tr>\n",
       "  </thead>\n",
       "  <tbody>\n",
       "    <tr>\n",
       "      <th>2017-02-09</th>\n",
       "      <td>NaN</td>\n",
       "      <td>NaN</td>\n",
       "      <td>NaN</td>\n",
       "      <td>NaN</td>\n",
       "      <td>NaN</td>\n",
       "      <td>0.1000</td>\n",
       "      <td>0.0</td>\n",
       "      <td>NaN</td>\n",
       "      <td>NaN</td>\n",
       "      <td>NaN</td>\n",
       "      <td>NaN</td>\n",
       "      <td>NaN</td>\n",
       "      <td>NaN</td>\n",
       "      <td>NaN</td>\n",
       "      <td>AAL</td>\n",
       "      <td>NaN</td>\n",
       "    </tr>\n",
       "    <tr>\n",
       "      <th>2017-02-09</th>\n",
       "      <td>NaN</td>\n",
       "      <td>NaN</td>\n",
       "      <td>NaN</td>\n",
       "      <td>NaN</td>\n",
       "      <td>NaN</td>\n",
       "      <td>1.2200</td>\n",
       "      <td>0.0</td>\n",
       "      <td>NaN</td>\n",
       "      <td>NaN</td>\n",
       "      <td>NaN</td>\n",
       "      <td>NaN</td>\n",
       "      <td>NaN</td>\n",
       "      <td>NaN</td>\n",
       "      <td>NaN</td>\n",
       "      <td>GWW</td>\n",
       "      <td>NaN</td>\n",
       "    </tr>\n",
       "    <tr>\n",
       "      <th>2017-02-09</th>\n",
       "      <td>NaN</td>\n",
       "      <td>NaN</td>\n",
       "      <td>NaN</td>\n",
       "      <td>NaN</td>\n",
       "      <td>NaN</td>\n",
       "      <td>0.1425</td>\n",
       "      <td>0.0</td>\n",
       "      <td>NaN</td>\n",
       "      <td>NaN</td>\n",
       "      <td>NaN</td>\n",
       "      <td>NaN</td>\n",
       "      <td>NaN</td>\n",
       "      <td>NaN</td>\n",
       "      <td>NaN</td>\n",
       "      <td>AAPL</td>\n",
       "      <td>NaN</td>\n",
       "    </tr>\n",
       "    <tr>\n",
       "      <th>2017-02-09</th>\n",
       "      <td>NaN</td>\n",
       "      <td>NaN</td>\n",
       "      <td>NaN</td>\n",
       "      <td>NaN</td>\n",
       "      <td>NaN</td>\n",
       "      <td>0.4000</td>\n",
       "      <td>0.0</td>\n",
       "      <td>NaN</td>\n",
       "      <td>NaN</td>\n",
       "      <td>NaN</td>\n",
       "      <td>NaN</td>\n",
       "      <td>NaN</td>\n",
       "      <td>NaN</td>\n",
       "      <td>NaN</td>\n",
       "      <td>COF</td>\n",
       "      <td>NaN</td>\n",
       "    </tr>\n",
       "    <tr>\n",
       "      <th>2017-02-09</th>\n",
       "      <td>NaN</td>\n",
       "      <td>NaN</td>\n",
       "      <td>NaN</td>\n",
       "      <td>NaN</td>\n",
       "      <td>NaN</td>\n",
       "      <td>0.7500</td>\n",
       "      <td>0.0</td>\n",
       "      <td>NaN</td>\n",
       "      <td>NaN</td>\n",
       "      <td>NaN</td>\n",
       "      <td>NaN</td>\n",
       "      <td>NaN</td>\n",
       "      <td>NaN</td>\n",
       "      <td>NaN</td>\n",
       "      <td>AMP</td>\n",
       "      <td>NaN</td>\n",
       "    </tr>\n",
       "  </tbody>\n",
       "</table>\n",
       "</div>"
      ],
      "text/plain": [
       "            open  high  low  close  volume  dividends  stock_splits  \\\n",
       "Date                                                                  \n",
       "2017-02-09   NaN   NaN  NaN    NaN     NaN     0.1000           0.0   \n",
       "2017-02-09   NaN   NaN  NaN    NaN     NaN     1.2200           0.0   \n",
       "2017-02-09   NaN   NaN  NaN    NaN     NaN     0.1425           0.0   \n",
       "2017-02-09   NaN   NaN  NaN    NaN     NaN     0.4000           0.0   \n",
       "2017-02-09   NaN   NaN  NaN    NaN     NaN     0.7500           0.0   \n",
       "\n",
       "            open_ma_3  open_ma_5  open_ma_10  volume_ma_3  volume_ma_5  \\\n",
       "Date                                                                     \n",
       "2017-02-09        NaN        NaN         NaN          NaN          NaN   \n",
       "2017-02-09        NaN        NaN         NaN          NaN          NaN   \n",
       "2017-02-09        NaN        NaN         NaN          NaN          NaN   \n",
       "2017-02-09        NaN        NaN         NaN          NaN          NaN   \n",
       "2017-02-09        NaN        NaN         NaN          NaN          NaN   \n",
       "\n",
       "            volume_ma_10  open_close ticker  Adj Close  \n",
       "Date                                                    \n",
       "2017-02-09           NaN         NaN    AAL        NaN  \n",
       "2017-02-09           NaN         NaN    GWW        NaN  \n",
       "2017-02-09           NaN         NaN   AAPL        NaN  \n",
       "2017-02-09           NaN         NaN    COF        NaN  \n",
       "2017-02-09           NaN         NaN    AMP        NaN  "
      ]
     },
     "execution_count": 5,
     "metadata": {},
     "output_type": "execute_result"
    }
   ],
   "source": [
    "data_src.head()"
   ]
  },
  {
   "cell_type": "code",
   "execution_count": 6,
   "id": "b9759450",
   "metadata": {
    "scrolled": true
   },
   "outputs": [
    {
     "data": {
      "text/plain": [
       "(626436, 16)"
      ]
     },
     "execution_count": 6,
     "metadata": {},
     "output_type": "execute_result"
    }
   ],
   "source": [
    "data_src.shape"
   ]
  },
  {
   "cell_type": "markdown",
   "id": "9a74b3cd",
   "metadata": {},
   "source": [
    "## Data cleaning"
   ]
  },
  {
   "cell_type": "code",
   "execution_count": 7,
   "id": "d895a308",
   "metadata": {},
   "outputs": [],
   "source": [
    "data = data_src.copy()\n",
    "\n",
    "# Adj close is nan for almost all entries\n",
    "data = data.drop(['Adj Close'], axis=1)\n",
    "\n",
    "# Delete moving average data\n",
    "data = data.drop(\n",
    "    ['open_ma_3', 'open_ma_5', 'open_ma_10', 'volume_ma_3', 'volume_ma_5', 'volume_ma_10'], axis=1\n",
    ")\n",
    "\n",
    "# Delete stock_splits data\n",
    "data = data.drop(['dividends', 'stock_splits'], axis=1)\n",
    "\n",
    "# Remove missing / bad values\n",
    "data = data.replace([-np.Inf, np.Inf], np.nan)\n",
    "data = data.dropna(how='any')"
   ]
  },
  {
   "cell_type": "code",
   "execution_count": 8,
   "id": "bd0b5915",
   "metadata": {},
   "outputs": [
    {
     "data": {
      "text/plain": [
       "Date      \n",
       "2017-02-10    492\n",
       "2020-03-19      2\n",
       "2017-05-12      1\n",
       "2018-04-26      1\n",
       "2018-12-07      1\n",
       "2019-03-12      1\n",
       "2019-03-13      1\n",
       "2019-03-20      1\n",
       "2019-05-24      1\n",
       "2021-05-14      1\n",
       "2022-01-19      1\n",
       "dtype: int64"
      ]
     },
     "execution_count": 8,
     "metadata": {},
     "output_type": "execute_result"
    }
   ],
   "source": [
    "# Get first date for each ticker\n",
    "ticker_date_groups = data[['ticker']].reset_index().groupby(['ticker']).min()\n",
    "ticker_date_groups.value_counts()"
   ]
  },
  {
   "cell_type": "code",
   "execution_count": 9,
   "id": "91c5340b",
   "metadata": {},
   "outputs": [
    {
     "data": {
      "text/html": [
       "<div>\n",
       "<style scoped>\n",
       "    .dataframe tbody tr th:only-of-type {\n",
       "        vertical-align: middle;\n",
       "    }\n",
       "\n",
       "    .dataframe tbody tr th {\n",
       "        vertical-align: top;\n",
       "    }\n",
       "\n",
       "    .dataframe thead th {\n",
       "        text-align: right;\n",
       "    }\n",
       "</style>\n",
       "<table border=\"1\" class=\"dataframe\">\n",
       "  <thead>\n",
       "    <tr style=\"text-align: right;\">\n",
       "      <th></th>\n",
       "      <th>open</th>\n",
       "      <th>high</th>\n",
       "      <th>low</th>\n",
       "      <th>close</th>\n",
       "      <th>volume</th>\n",
       "      <th>open_close</th>\n",
       "      <th>ticker</th>\n",
       "      <th>high_low</th>\n",
       "    </tr>\n",
       "    <tr>\n",
       "      <th>Date</th>\n",
       "      <th></th>\n",
       "      <th></th>\n",
       "      <th></th>\n",
       "      <th></th>\n",
       "      <th></th>\n",
       "      <th></th>\n",
       "      <th></th>\n",
       "      <th></th>\n",
       "    </tr>\n",
       "  </thead>\n",
       "  <tbody>\n",
       "    <tr>\n",
       "      <th>2017-02-10</th>\n",
       "      <td>45.150656</td>\n",
       "      <td>45.228136</td>\n",
       "      <td>44.714838</td>\n",
       "      <td>44.986015</td>\n",
       "      <td>4040600.0</td>\n",
       "      <td>-0.164640</td>\n",
       "      <td>AAL</td>\n",
       "      <td>0.513298</td>\n",
       "    </tr>\n",
       "    <tr>\n",
       "      <th>2017-02-10</th>\n",
       "      <td>31.265862</td>\n",
       "      <td>31.379161</td>\n",
       "      <td>31.169085</td>\n",
       "      <td>31.185606</td>\n",
       "      <td>80262000.0</td>\n",
       "      <td>-0.080256</td>\n",
       "      <td>AAPL</td>\n",
       "      <td>0.210075</td>\n",
       "    </tr>\n",
       "    <tr>\n",
       "      <th>2017-02-10</th>\n",
       "      <td>48.343415</td>\n",
       "      <td>48.462586</td>\n",
       "      <td>47.882624</td>\n",
       "      <td>48.001793</td>\n",
       "      <td>5749200.0</td>\n",
       "      <td>-0.341622</td>\n",
       "      <td>ABBV</td>\n",
       "      <td>0.579962</td>\n",
       "    </tr>\n",
       "    <tr>\n",
       "      <th>2017-02-10</th>\n",
       "      <td>39.233299</td>\n",
       "      <td>39.288374</td>\n",
       "      <td>38.994630</td>\n",
       "      <td>39.233299</td>\n",
       "      <td>3692400.0</td>\n",
       "      <td>0.000000</td>\n",
       "      <td>ABT</td>\n",
       "      <td>0.293745</td>\n",
       "    </tr>\n",
       "    <tr>\n",
       "      <th>2017-02-10</th>\n",
       "      <td>116.510002</td>\n",
       "      <td>116.940002</td>\n",
       "      <td>115.029999</td>\n",
       "      <td>116.849998</td>\n",
       "      <td>2612900.0</td>\n",
       "      <td>0.339996</td>\n",
       "      <td>ADBE</td>\n",
       "      <td>1.910004</td>\n",
       "    </tr>\n",
       "  </tbody>\n",
       "</table>\n",
       "</div>"
      ],
      "text/plain": [
       "                  open        high         low       close      volume  \\\n",
       "Date                                                                     \n",
       "2017-02-10   45.150656   45.228136   44.714838   44.986015   4040600.0   \n",
       "2017-02-10   31.265862   31.379161   31.169085   31.185606  80262000.0   \n",
       "2017-02-10   48.343415   48.462586   47.882624   48.001793   5749200.0   \n",
       "2017-02-10   39.233299   39.288374   38.994630   39.233299   3692400.0   \n",
       "2017-02-10  116.510002  116.940002  115.029999  116.849998   2612900.0   \n",
       "\n",
       "            open_close ticker  high_low  \n",
       "Date                                     \n",
       "2017-02-10   -0.164640    AAL  0.513298  \n",
       "2017-02-10   -0.080256   AAPL  0.210075  \n",
       "2017-02-10   -0.341622   ABBV  0.579962  \n",
       "2017-02-10    0.000000    ABT  0.293745  \n",
       "2017-02-10    0.339996   ADBE  1.910004  "
      ]
     },
     "execution_count": 9,
     "metadata": {},
     "output_type": "execute_result"
    }
   ],
   "source": [
    "# Remove tickers which do not have data on 2017-02-10\n",
    "earliest_date = ticker_date_groups['Date'].min()\n",
    "recently_added_tickers = list(ticker_date_groups[ticker_date_groups['Date']>earliest_date].index)\n",
    "\n",
    "data = data[data['ticker'].isin(recently_added_tickers)==False]\n",
    "\n",
    "# Subset data to only include top NUM_TICKERS tickers wrt total volume\n",
    "NUM_TICKERS = 200\n",
    "\n",
    "ticker_volume_means = data[['ticker', 'volume']].groupby(['ticker']).mean().sort_values('volume', ascending=False)\n",
    "high_volume_tickers = list(ticker_volume_means.index[:NUM_TICKERS])\n",
    "\n",
    "data = data[data['ticker'].isin(high_volume_tickers)==True]\n",
    "\n",
    "# Get intra-day high-low\n",
    "data['high_low'] = data['high'] - data['low']\n",
    "\n",
    "# I did not include dates in this analysis because it is not as easy to visualize stock events which are anomalous due in \n",
    "# part because of the date. It is much easier to visualize anomalies as, e.g., a sharp increase in daily volume\n",
    "\n",
    "# Extract days from dates\n",
    "#data['day_of_week'] = data.index.dayofweek\n",
    "#data['day_of_month'] = data.index.day\n",
    "#data['month'] = data.index.month\n",
    "\n",
    "# Convert date values into periodic representation\n",
    "#data['day_of_week_sin'] = data['day_of_week'].map(lambda d: d * np.sin(2 * np.pi / 7))\n",
    "#data['day_of_week_cos'] = data['day_of_week'].map(lambda d: d * np.cos(2 * np.pi / 7))\n",
    "#data['day_of_month_sin'] = data['day_of_month'].map(lambda d: d * np.sin(2 * np.pi / 31))\n",
    "#data['day_of_month_cos'] = data['day_of_month'].map(lambda d: d * np.cos(2 * np.pi / 31))\n",
    "#data['month_sin'] = data['day_of_month'].map(lambda m: m * np.sin(2 * np.pi / 12))\n",
    "#data['month_cos'] = data['day_of_month'].map(lambda m: m * np.cos(2 * np.pi / 12))\n",
    "#data = data.drop(['day_of_week', 'day_of_month', 'month'], axis=1)\n",
    "\n",
    "# Sort data into nicer format\n",
    "data = data.sort_values(['Date', 'ticker'])\n",
    "data.head()\n",
    "\n",
    "data.head()"
   ]
  },
  {
   "cell_type": "code",
   "execution_count": 10,
   "id": "0d1cf371",
   "metadata": {},
   "outputs": [],
   "source": [
    "# Integer encoding of ticker symbols\n",
    "ticker_label_encoder = LabelEncoder().fit(data['ticker'])\n",
    "encoded_tickers = ticker_label_encoder.transform(data['ticker'])\n",
    "\n",
    "# One-hot encoding of ticker symbols\n",
    "one_hot_tickers = tf.keras.utils.to_categorical(encoded_tickers)\n",
    "one_hot_tickers_df = pd.DataFrame(one_hot_tickers, index=data.index)"
   ]
  },
  {
   "cell_type": "code",
   "execution_count": 11,
   "id": "1865d300",
   "metadata": {},
   "outputs": [
    {
     "data": {
      "text/html": [
       "<div>\n",
       "<style scoped>\n",
       "    .dataframe tbody tr th:only-of-type {\n",
       "        vertical-align: middle;\n",
       "    }\n",
       "\n",
       "    .dataframe tbody tr th {\n",
       "        vertical-align: top;\n",
       "    }\n",
       "\n",
       "    .dataframe thead th {\n",
       "        text-align: right;\n",
       "    }\n",
       "</style>\n",
       "<table border=\"1\" class=\"dataframe\">\n",
       "  <thead>\n",
       "    <tr style=\"text-align: right;\">\n",
       "      <th></th>\n",
       "      <th>0</th>\n",
       "      <th>1</th>\n",
       "      <th>2</th>\n",
       "      <th>3</th>\n",
       "      <th>4</th>\n",
       "      <th>5</th>\n",
       "      <th>6</th>\n",
       "      <th>7</th>\n",
       "      <th>8</th>\n",
       "      <th>9</th>\n",
       "      <th>...</th>\n",
       "      <th>190</th>\n",
       "      <th>191</th>\n",
       "      <th>192</th>\n",
       "      <th>193</th>\n",
       "      <th>194</th>\n",
       "      <th>195</th>\n",
       "      <th>196</th>\n",
       "      <th>197</th>\n",
       "      <th>198</th>\n",
       "      <th>199</th>\n",
       "    </tr>\n",
       "    <tr>\n",
       "      <th>Date</th>\n",
       "      <th></th>\n",
       "      <th></th>\n",
       "      <th></th>\n",
       "      <th></th>\n",
       "      <th></th>\n",
       "      <th></th>\n",
       "      <th></th>\n",
       "      <th></th>\n",
       "      <th></th>\n",
       "      <th></th>\n",
       "      <th></th>\n",
       "      <th></th>\n",
       "      <th></th>\n",
       "      <th></th>\n",
       "      <th></th>\n",
       "      <th></th>\n",
       "      <th></th>\n",
       "      <th></th>\n",
       "      <th></th>\n",
       "      <th></th>\n",
       "      <th></th>\n",
       "    </tr>\n",
       "  </thead>\n",
       "  <tbody>\n",
       "    <tr>\n",
       "      <th>2017-02-10</th>\n",
       "      <td>1.0</td>\n",
       "      <td>0.0</td>\n",
       "      <td>0.0</td>\n",
       "      <td>0.0</td>\n",
       "      <td>0.0</td>\n",
       "      <td>0.0</td>\n",
       "      <td>0.0</td>\n",
       "      <td>0.0</td>\n",
       "      <td>0.0</td>\n",
       "      <td>0.0</td>\n",
       "      <td>...</td>\n",
       "      <td>0.0</td>\n",
       "      <td>0.0</td>\n",
       "      <td>0.0</td>\n",
       "      <td>0.0</td>\n",
       "      <td>0.0</td>\n",
       "      <td>0.0</td>\n",
       "      <td>0.0</td>\n",
       "      <td>0.0</td>\n",
       "      <td>0.0</td>\n",
       "      <td>0.0</td>\n",
       "    </tr>\n",
       "    <tr>\n",
       "      <th>2017-02-10</th>\n",
       "      <td>0.0</td>\n",
       "      <td>1.0</td>\n",
       "      <td>0.0</td>\n",
       "      <td>0.0</td>\n",
       "      <td>0.0</td>\n",
       "      <td>0.0</td>\n",
       "      <td>0.0</td>\n",
       "      <td>0.0</td>\n",
       "      <td>0.0</td>\n",
       "      <td>0.0</td>\n",
       "      <td>...</td>\n",
       "      <td>0.0</td>\n",
       "      <td>0.0</td>\n",
       "      <td>0.0</td>\n",
       "      <td>0.0</td>\n",
       "      <td>0.0</td>\n",
       "      <td>0.0</td>\n",
       "      <td>0.0</td>\n",
       "      <td>0.0</td>\n",
       "      <td>0.0</td>\n",
       "      <td>0.0</td>\n",
       "    </tr>\n",
       "    <tr>\n",
       "      <th>2017-02-10</th>\n",
       "      <td>0.0</td>\n",
       "      <td>0.0</td>\n",
       "      <td>1.0</td>\n",
       "      <td>0.0</td>\n",
       "      <td>0.0</td>\n",
       "      <td>0.0</td>\n",
       "      <td>0.0</td>\n",
       "      <td>0.0</td>\n",
       "      <td>0.0</td>\n",
       "      <td>0.0</td>\n",
       "      <td>...</td>\n",
       "      <td>0.0</td>\n",
       "      <td>0.0</td>\n",
       "      <td>0.0</td>\n",
       "      <td>0.0</td>\n",
       "      <td>0.0</td>\n",
       "      <td>0.0</td>\n",
       "      <td>0.0</td>\n",
       "      <td>0.0</td>\n",
       "      <td>0.0</td>\n",
       "      <td>0.0</td>\n",
       "    </tr>\n",
       "    <tr>\n",
       "      <th>2017-02-10</th>\n",
       "      <td>0.0</td>\n",
       "      <td>0.0</td>\n",
       "      <td>0.0</td>\n",
       "      <td>1.0</td>\n",
       "      <td>0.0</td>\n",
       "      <td>0.0</td>\n",
       "      <td>0.0</td>\n",
       "      <td>0.0</td>\n",
       "      <td>0.0</td>\n",
       "      <td>0.0</td>\n",
       "      <td>...</td>\n",
       "      <td>0.0</td>\n",
       "      <td>0.0</td>\n",
       "      <td>0.0</td>\n",
       "      <td>0.0</td>\n",
       "      <td>0.0</td>\n",
       "      <td>0.0</td>\n",
       "      <td>0.0</td>\n",
       "      <td>0.0</td>\n",
       "      <td>0.0</td>\n",
       "      <td>0.0</td>\n",
       "    </tr>\n",
       "    <tr>\n",
       "      <th>2017-02-10</th>\n",
       "      <td>0.0</td>\n",
       "      <td>0.0</td>\n",
       "      <td>0.0</td>\n",
       "      <td>0.0</td>\n",
       "      <td>1.0</td>\n",
       "      <td>0.0</td>\n",
       "      <td>0.0</td>\n",
       "      <td>0.0</td>\n",
       "      <td>0.0</td>\n",
       "      <td>0.0</td>\n",
       "      <td>...</td>\n",
       "      <td>0.0</td>\n",
       "      <td>0.0</td>\n",
       "      <td>0.0</td>\n",
       "      <td>0.0</td>\n",
       "      <td>0.0</td>\n",
       "      <td>0.0</td>\n",
       "      <td>0.0</td>\n",
       "      <td>0.0</td>\n",
       "      <td>0.0</td>\n",
       "      <td>0.0</td>\n",
       "    </tr>\n",
       "  </tbody>\n",
       "</table>\n",
       "<p>5 rows × 200 columns</p>\n",
       "</div>"
      ],
      "text/plain": [
       "            0    1    2    3    4    5    6    7    8    9    ...  190  191  \\\n",
       "Date                                                          ...             \n",
       "2017-02-10  1.0  0.0  0.0  0.0  0.0  0.0  0.0  0.0  0.0  0.0  ...  0.0  0.0   \n",
       "2017-02-10  0.0  1.0  0.0  0.0  0.0  0.0  0.0  0.0  0.0  0.0  ...  0.0  0.0   \n",
       "2017-02-10  0.0  0.0  1.0  0.0  0.0  0.0  0.0  0.0  0.0  0.0  ...  0.0  0.0   \n",
       "2017-02-10  0.0  0.0  0.0  1.0  0.0  0.0  0.0  0.0  0.0  0.0  ...  0.0  0.0   \n",
       "2017-02-10  0.0  0.0  0.0  0.0  1.0  0.0  0.0  0.0  0.0  0.0  ...  0.0  0.0   \n",
       "\n",
       "            192  193  194  195  196  197  198  199  \n",
       "Date                                                \n",
       "2017-02-10  0.0  0.0  0.0  0.0  0.0  0.0  0.0  0.0  \n",
       "2017-02-10  0.0  0.0  0.0  0.0  0.0  0.0  0.0  0.0  \n",
       "2017-02-10  0.0  0.0  0.0  0.0  0.0  0.0  0.0  0.0  \n",
       "2017-02-10  0.0  0.0  0.0  0.0  0.0  0.0  0.0  0.0  \n",
       "2017-02-10  0.0  0.0  0.0  0.0  0.0  0.0  0.0  0.0  \n",
       "\n",
       "[5 rows x 200 columns]"
      ]
     },
     "execution_count": 11,
     "metadata": {},
     "output_type": "execute_result"
    }
   ],
   "source": [
    "one_hot_tickers_df.head()"
   ]
  },
  {
   "cell_type": "code",
   "execution_count": 12,
   "id": "8f227556",
   "metadata": {},
   "outputs": [],
   "source": [
    "# Split data into training and testing\n",
    "X_train_df, X_test_df, y_train_df, y_test_df = train_test_split(\n",
    "    data, one_hot_tickers_df, test_size=.2, random_state=11\n",
    ")\n",
    "\n",
    "# Split training data into training and validation\n",
    "X_train_df, X_valid_df, y_train_df, y_valid_df = train_test_split(\n",
    "    X_train_df, y_train_df, test_size=.15, random_state=13\n",
    ")"
   ]
  },
  {
   "cell_type": "code",
   "execution_count": 13,
   "id": "b5634564",
   "metadata": {},
   "outputs": [],
   "source": [
    "BATCH_SIZE = 32\n",
    "\n",
    "# Truncate data to be multiple of batch size\n",
    "train_truncate_val = X_train_df.shape[0] - X_train_df.shape[0] % BATCH_SIZE\n",
    "valid_truncate_val = X_valid_df.shape[0] - X_valid_df.shape[0] % BATCH_SIZE\n",
    "test_truncate_val = X_test_df.shape[0] - X_test_df.shape[0] % BATCH_SIZE\n",
    "\n",
    "X_train_df = X_train_df.iloc[:train_truncate_val, :]\n",
    "y_train_df = y_train_df.iloc[:train_truncate_val, :]\n",
    "\n",
    "X_valid_df = X_valid_df.iloc[:valid_truncate_val, :]\n",
    "y_valid_df = y_valid_df.iloc[:valid_truncate_val, :]\n",
    "\n",
    "X_test_df = X_test_df.iloc[:test_truncate_val, :]\n",
    "y_test_df = y_test_df.iloc[:test_truncate_val, :]"
   ]
  },
  {
   "cell_type": "code",
   "execution_count": 14,
   "id": "060eeb7a",
   "metadata": {},
   "outputs": [],
   "source": [
    "# Get numpy versions of dataframes for training\n",
    "X_train = X_train_df.drop(['ticker'], axis=1).to_numpy()\n",
    "y_train = y_train_df.to_numpy()\n",
    "\n",
    "X_valid = X_valid_df.drop(['ticker'], axis=1).to_numpy()\n",
    "y_valid = y_valid_df.to_numpy()\n",
    "\n",
    "X_test = X_test_df.drop(['ticker'], axis=1).to_numpy()\n",
    "y_test = y_test_df.to_numpy()"
   ]
  },
  {
   "cell_type": "code",
   "execution_count": 17,
   "id": "04ccf8bd",
   "metadata": {},
   "outputs": [],
   "source": [
    "# Scale numeric data to N(0, 1)\n",
    "data_scaler = StandardScaler().fit(X_train)\n",
    "\n",
    "X_train = data_scaler.transform(X_train)\n",
    "X_valid = data_scaler.transform(X_valid)\n",
    "X_test = data_scaler.transform(X_test)"
   ]
  },
  {
   "cell_type": "code",
   "execution_count": 18,
   "id": "92026786",
   "metadata": {},
   "outputs": [
    {
     "name": "stdout",
     "output_type": "stream",
     "text": [
      "training x shape   --- (171200, 8)    (171200, 200) --- training y shape\n",
      "validation x shape ---- (30208, 8)    (30208, 200) --- validation y shape\n",
      "testing x shape    ---- (50336, 8)    (50336, 200) --- testing y shape\n"
     ]
    }
   ],
   "source": [
    "print(f'training x shape   --- {X_train_df.shape}    {y_train_df.shape} --- training y shape')\n",
    "print(f'validation x shape ---- {X_valid_df.shape}    {y_valid_df.shape} --- validation y shape')\n",
    "print(f'testing x shape    ---- {X_test_df.shape}    {y_test_df.shape} --- testing y shape')"
   ]
  },
  {
   "cell_type": "markdown",
   "id": "b9d5ef40",
   "metadata": {},
   "source": [
    "## Creating Conditional Variational Autoencoder"
   ]
  },
  {
   "cell_type": "markdown",
   "id": "c714716e",
   "metadata": {},
   "source": [
    "The following conditional variational autoencoder is trained on batches of daily data. An ostensibly stronger model could be a recurrent model which encodes a sequence of data points for a given stock and then outputs an estimate for the next day's datapoint."
   ]
  },
  {
   "cell_type": "code",
   "execution_count": 19,
   "id": "79d8cc8a",
   "metadata": {},
   "outputs": [],
   "source": [
    "# Hyper-parameters\n",
    "LATENT_DIM = 4"
   ]
  },
  {
   "cell_type": "code",
   "execution_count": 20,
   "id": "c19c1db2",
   "metadata": {},
   "outputs": [
    {
     "name": "stdout",
     "output_type": "stream",
     "text": [
      "Model: \"encoder\"\n",
      "__________________________________________________________________________________________________\n",
      " Layer (type)                   Output Shape         Param #     Connected to                     \n",
      "==================================================================================================\n",
      " x_input (InputLayer)           [(None, 7)]          0           []                               \n",
      "                                                                                                  \n",
      " y_input (InputLayer)           [(None, 200)]        0           []                               \n",
      "                                                                                                  \n",
      " x_y_concat (Concatenate)       (None, 207)          0           ['x_input[0][0]',                \n",
      "                                                                  'y_input[0][0]']                \n",
      "                                                                                                  \n",
      " encoder_dense_1 (Dense)        (None, 128)          26624       ['x_y_concat[0][0]']             \n",
      "                                                                                                  \n",
      " encoder_dense_2 (Dense)        (None, 128)          16512       ['encoder_dense_1[0][0]']        \n",
      "                                                                                                  \n",
      " encoder_dropout (Dropout)      (None, 128)          0           ['encoder_dense_2[0][0]']        \n",
      "                                                                                                  \n",
      " encoder_dense_3 (Dense)        (None, 128)          16512       ['encoder_dropout[0][0]']        \n",
      "                                                                                                  \n",
      " encoder_mu (Dense)             (None, 4)            516         ['encoder_dense_3[0][0]']        \n",
      "                                                                                                  \n",
      "==================================================================================================\n",
      "Total params: 60,164\n",
      "Trainable params: 60,164\n",
      "Non-trainable params: 0\n",
      "__________________________________________________________________________________________________\n",
      "Model: \"decoder\"\n",
      "_________________________________________________________________\n",
      " Layer (type)                Output Shape              Param #   \n",
      "=================================================================\n",
      " decoder_input (InputLayer)  [(None, 204)]             0         \n",
      "                                                                 \n",
      " decoder_dense_1 (Dense)     (None, 128)               26240     \n",
      "                                                                 \n",
      " decoder_dense_2 (Dense)     (None, 128)               16512     \n",
      "                                                                 \n",
      " decoder_dropout (Dropout)   (None, 128)               0         \n",
      "                                                                 \n",
      " decoder_dense_3 (Dense)     (None, 128)               16512     \n",
      "                                                                 \n",
      " decoder_output (Dense)      (None, 7)                 903       \n",
      "                                                                 \n",
      "=================================================================\n",
      "Total params: 60,167\n",
      "Trainable params: 60,167\n",
      "Non-trainable params: 0\n",
      "_________________________________________________________________\n",
      "Model: \"cvae\"\n",
      "__________________________________________________________________________________________________\n",
      " Layer (type)                   Output Shape         Param #     Connected to                     \n",
      "==================================================================================================\n",
      " x_input (InputLayer)           [(None, 7)]          0           []                               \n",
      "                                                                                                  \n",
      " y_input (InputLayer)           [(None, 200)]        0           []                               \n",
      "                                                                                                  \n",
      " x_y_concat (Concatenate)       (None, 207)          0           ['x_input[0][0]',                \n",
      "                                                                  'y_input[0][0]']                \n",
      "                                                                                                  \n",
      " encoder_dense_1 (Dense)        (None, 128)          26624       ['x_y_concat[0][0]']             \n",
      "                                                                                                  \n",
      " encoder_dense_2 (Dense)        (None, 128)          16512       ['encoder_dense_1[0][0]']        \n",
      "                                                                                                  \n",
      " encoder_dropout (Dropout)      (None, 128)          0           ['encoder_dense_2[0][0]']        \n",
      "                                                                                                  \n",
      " encoder_dense_3 (Dense)        (None, 128)          16512       ['encoder_dropout[0][0]']        \n",
      "                                                                                                  \n",
      " encoder_mu (Dense)             (None, 4)            516         ['encoder_dense_3[0][0]']        \n",
      "                                                                                                  \n",
      " encoder_log_sigma (Dense)      (None, 4)            516         ['encoder_dense_3[0][0]']        \n",
      "                                                                                                  \n",
      " sample_and_reparameterize (Lam  (None, 4)           0           ['encoder_mu[0][0]',             \n",
      " bda)                                                             'encoder_log_sigma[0][0]']      \n",
      "                                                                                                  \n",
      " z_y_concat (Concatenate)       (None, 204)          0           ['sample_and_reparameterize[0][0]\n",
      "                                                                 ',                               \n",
      "                                                                  'y_input[0][0]']                \n",
      "                                                                                                  \n",
      " decoder_dense_1 (Dense)        (None, 128)          26240       ['z_y_concat[0][0]']             \n",
      "                                                                                                  \n",
      " decoder_dense_2 (Dense)        (None, 128)          16512       ['decoder_dense_1[0][0]']        \n",
      "                                                                                                  \n",
      " decoder_dropout (Dropout)      (None, 128)          0           ['decoder_dense_2[0][0]']        \n",
      "                                                                                                  \n",
      " decoder_dense_3 (Dense)        (None, 128)          16512       ['decoder_dropout[0][0]']        \n",
      "                                                                                                  \n",
      " decoder_output (Dense)         (None, 7)            903         ['decoder_dense_3[0][0]']        \n",
      "                                                                                                  \n",
      "==================================================================================================\n",
      "Total params: 120,847\n",
      "Trainable params: 120,847\n",
      "Non-trainable params: 0\n",
      "__________________________________________________________________________________________________\n"
     ]
    }
   ],
   "source": [
    "# CVAE dense\n",
    "# CVAE input layers\n",
    "X = Input(shape=(X_train.shape[1],), name='x_input')\n",
    "Y = Input(shape=(y_train.shape[1],), name='y_input')\n",
    "\n",
    "X_Y_concat = tf.keras.layers.concatenate([X, Y], name='x_y_concat')\n",
    "\n",
    "# Encoder specification\n",
    "encoder_dense_1 = Dense(128, activation='relu', name='encoder_dense_1')(X_Y_concat)\n",
    "encoder_dense_2 = Dense(128, activation='relu', name='encoder_dense_2')(encoder_dense_1)\n",
    "encoder_dropout = Dropout(.3, name='encoder_dropout')(encoder_dense_2)\n",
    "encoder_dense_3 = Dense(128, activation='relu', name='encoder_dense_3')(encoder_dropout)\n",
    "\n",
    "encoder_mu = Dense(LATENT_DIM, activation='linear', name='encoder_mu')(encoder_dense_3)\n",
    "encoder_log_sigma = Dense(LATENT_DIM, activation='linear', name='encoder_log_sigma')(encoder_dense_3)\n",
    "\n",
    "encoder = Model([X, Y], encoder_mu, name='encoder')\n",
    "encoder.summary()\n",
    "\n",
    "# Reparameterization and concatenation layers / specification\n",
    "def sample_and_reparameterize(mu_logsigma):\n",
    "    mu, log_sigma = mu_logsigma\n",
    "    eps = K.random_normal(shape=(LATENT_DIM,))\n",
    "    return mu + K.exp(log_sigma * .5) * eps\n",
    "\n",
    "Z = tf.keras.layers.Lambda(sample_and_reparameterize, output_shape=(LATENT_DIM,), \n",
    "                        name='sample_and_reparameterize')([encoder_mu, encoder_log_sigma])\n",
    "\n",
    "Z_Y_concat = tf.keras.layers.concatenate([Z, Y], name='z_y_concat')\n",
    "\n",
    "# Decoder layers\n",
    "decoder_dense_layer_1 = Dense(128, activation='relu', name='decoder_dense_1')\n",
    "decoder_dense_layer_2 = Dense(128, activation='relu', name='decoder_dense_2')\n",
    "decoder_dropout_layer = Dropout(.3, name='decoder_dropout')\n",
    "decoder_dense_layer_3 = Dense(128, activation='relu', name='decoder_dense_3')\n",
    "decoder_output_layer = Dense(X_train.shape[1], activation='sigmoid', name='decoder_output')\n",
    "\n",
    "# Decoder specification\n",
    "d1 = decoder_dense_layer_1(Z_Y_concat)\n",
    "d2 = decoder_dense_layer_2(d1)\n",
    "d3 = decoder_dropout_layer(d2)\n",
    "d4 = decoder_dense_layer_3(d3)\n",
    "cvae_output = decoder_output_layer(d4)\n",
    "\n",
    "decoder_input = Input(shape=(LATENT_DIM+y_train.shape[1],), name='decoder_input')\n",
    "decoder_dense_1 = decoder_dense_layer_1(decoder_input)\n",
    "decoder_dense_2 = decoder_dense_layer_2(decoder_dense_1)\n",
    "decoder_dropout = decoder_dropout_layer(decoder_dense_2)\n",
    "decoder_dense_3 = decoder_dense_layer_3(decoder_dropout)\n",
    "decoder_output = decoder_output_layer(decoder_dense_3)\n",
    "\n",
    "decoder = Model(decoder_input, decoder_output, name='decoder')\n",
    "decoder.summary()\n",
    "\n",
    "cvae = Model([X, Y], cvae_output, name='cvae')\n",
    "cvae.summary()"
   ]
  },
  {
   "cell_type": "code",
   "execution_count": 21,
   "id": "fc707f96",
   "metadata": {},
   "outputs": [],
   "source": [
    "# Loss functions\n",
    "def reconstruction_loss(x_true, x_pred):\n",
    "    square_error = (x_true - x_pred) ** 2\n",
    "    return tf.reduce_mean( tf.reduce_sum(square_error, axis=1) )\n",
    "\n",
    "def kl_divergence(x_true, x_pred, emu, els):\n",
    "    kl = tf.exp(els) + tf.square(emu) - 1 - els\n",
    "    return tf.reduce_mean(.5 * tf.reduce_sum(kl, axis=1))\n",
    "\n",
    "def vae_loss(x_true, x_pred, emu, els):\n",
    "    return reconstruction_loss(x_true, x_pred) + kl_divergence(x_true, x_pred, emu, els)"
   ]
  },
  {
   "cell_type": "markdown",
   "id": "dea54ad9",
   "metadata": {},
   "source": [
    "## Model training"
   ]
  },
  {
   "cell_type": "code",
   "execution_count": 22,
   "id": "bee21db8",
   "metadata": {
    "scrolled": false
   },
   "outputs": [
    {
     "name": "stdout",
     "output_type": "stream",
     "text": [
      "Epoch 1/50\n",
      "5350/5350 [==============================] - 9s 2ms/step - loss: 5.8812 - reconstruction_loss: 5.8723 - kl_divergence: 0.0089 - val_loss: 5.4085 - val_reconstruction_loss: 5.3991 - val_kl_divergence: 0.0094 - lr: 0.0010\n",
      "Epoch 2/50\n",
      "5350/5350 [==============================] - 9s 2ms/step - loss: 5.7895 - reconstruction_loss: 5.7795 - kl_divergence: 0.0100 - val_loss: 5.4233 - val_reconstruction_loss: 5.4218 - val_kl_divergence: 0.0015 - lr: 0.0010\n",
      "Epoch 3/50\n",
      "5350/5350 [==============================] - 12s 2ms/step - loss: 5.7970 - reconstruction_loss: 5.7850 - kl_divergence: 0.0120 - val_loss: 5.4119 - val_reconstruction_loss: 5.4096 - val_kl_divergence: 0.0023 - lr: 0.0010\n",
      "Epoch 4/50\n",
      "5350/5350 [==============================] - 14s 3ms/step - loss: 5.7981 - reconstruction_loss: 5.7906 - kl_divergence: 0.0075 - val_loss: 5.4191 - val_reconstruction_loss: 5.4039 - val_kl_divergence: 0.0152 - lr: 0.0010\n",
      "Epoch 5/50\n",
      "5350/5350 [==============================] - 21s 4ms/step - loss: 5.7801 - reconstruction_loss: 5.7704 - kl_divergence: 0.0098 - val_loss: 5.4057 - val_reconstruction_loss: 5.4007 - val_kl_divergence: 0.0051 - lr: 1.0000e-04\n",
      "Epoch 6/50\n",
      "5350/5350 [==============================] - 21s 4ms/step - loss: 5.7773 - reconstruction_loss: 5.7684 - kl_divergence: 0.0089 - val_loss: 5.4007 - val_reconstruction_loss: 5.3931 - val_kl_divergence: 0.0076 - lr: 1.0000e-04\n",
      "Epoch 7/50\n",
      "5350/5350 [==============================] - 15s 3ms/step - loss: 5.7720 - reconstruction_loss: 5.7615 - kl_divergence: 0.0106 - val_loss: 5.3972 - val_reconstruction_loss: 5.3893 - val_kl_divergence: 0.0079 - lr: 1.0000e-04\n",
      "Epoch 8/50\n",
      "5350/5350 [==============================] - 13s 2ms/step - loss: 5.7719 - reconstruction_loss: 5.7611 - kl_divergence: 0.0108 - val_loss: 5.4036 - val_reconstruction_loss: 5.3969 - val_kl_divergence: 0.0067 - lr: 1.0000e-04\n",
      "Epoch 9/50\n",
      "5350/5350 [==============================] - 17s 3ms/step - loss: 5.7698 - reconstruction_loss: 5.7577 - kl_divergence: 0.0122 - val_loss: 5.3986 - val_reconstruction_loss: 5.3912 - val_kl_divergence: 0.0074 - lr: 1.0000e-04\n",
      "Epoch 10/50\n",
      "5350/5350 [==============================] - 23s 4ms/step - loss: 5.7701 - reconstruction_loss: 5.7579 - kl_divergence: 0.0121 - val_loss: 5.4006 - val_reconstruction_loss: 5.3928 - val_kl_divergence: 0.0078 - lr: 1.0000e-04\n",
      "Epoch 11/50\n",
      "5350/5350 [==============================] - 16s 3ms/step - loss: 5.7707 - reconstruction_loss: 5.7586 - kl_divergence: 0.0121 - val_loss: 5.4027 - val_reconstruction_loss: 5.3961 - val_kl_divergence: 0.0066 - lr: 1.0000e-04\n",
      "Epoch 12/50\n",
      "5350/5350 [==============================] - 14s 3ms/step - loss: 5.7708 - reconstruction_loss: 5.7600 - kl_divergence: 0.0108 - val_loss: 5.3898 - val_reconstruction_loss: 5.3828 - val_kl_divergence: 0.0071 - lr: 1.0000e-05\n",
      "Epoch 13/50\n",
      "5350/5350 [==============================] - 20s 4ms/step - loss: 5.7690 - reconstruction_loss: 5.7578 - kl_divergence: 0.0112 - val_loss: 5.3869 - val_reconstruction_loss: 5.3796 - val_kl_divergence: 0.0072 - lr: 1.0000e-05\n",
      "Epoch 14/50\n",
      "5350/5350 [==============================] - 23s 4ms/step - loss: 5.7657 - reconstruction_loss: 5.7543 - kl_divergence: 0.0114 - val_loss: 5.4011 - val_reconstruction_loss: 5.3943 - val_kl_divergence: 0.0069 - lr: 1.0000e-05\n",
      "Epoch 15/50\n",
      "5350/5350 [==============================] - 14s 3ms/step - loss: 5.7690 - reconstruction_loss: 5.7581 - kl_divergence: 0.0110 - val_loss: 5.3909 - val_reconstruction_loss: 5.3842 - val_kl_divergence: 0.0067 - lr: 1.0000e-05\n",
      "Epoch 16/50\n",
      "5350/5350 [==============================] - 17s 3ms/step - loss: 5.7683 - reconstruction_loss: 5.7574 - kl_divergence: 0.0110 - val_loss: 5.3997 - val_reconstruction_loss: 5.3925 - val_kl_divergence: 0.0072 - lr: 1.0000e-05\n",
      "Epoch 17/50\n",
      "5350/5350 [==============================] - 29s 5ms/step - loss: 5.7663 - reconstruction_loss: 5.7551 - kl_divergence: 0.0112 - val_loss: 5.3978 - val_reconstruction_loss: 5.3906 - val_kl_divergence: 0.0072 - lr: 1.0000e-06\n",
      "Epoch 18/50\n",
      "5350/5350 [==============================] - 19s 4ms/step - loss: 5.7700 - reconstruction_loss: 5.7588 - kl_divergence: 0.0112 - val_loss: 5.3963 - val_reconstruction_loss: 5.3891 - val_kl_divergence: 0.0072 - lr: 1.0000e-06\n"
     ]
    }
   ],
   "source": [
    "if len(cvae.losses) == 0:\n",
    "    cvae.add_loss(vae_loss(X, cvae_output, encoder_mu, encoder_log_sigma))\n",
    "    \n",
    "if len(cvae.metrics) == 0:\n",
    "    cvae.add_metric(reconstruction_loss(X, cvae_output), name='reconstruction_loss')\n",
    "    cvae.add_metric(kl_divergence(X, cvae_output, encoder_mu, encoder_log_sigma), name='kl_divergence')\n",
    "    \n",
    "cvae.compile(optimizer=tf.keras.optimizers.Adam(1e-3))\n",
    "\n",
    "early_stop_clbk = tf.keras.callbacks.EarlyStopping(monitor='loss', patience=4)\n",
    "reduce_lr_clbk = tf.keras.callbacks.ReduceLROnPlateau(monitor='loss', patience=2)\n",
    "\n",
    "callbacks = [early_stop_clbk, reduce_lr_clbk]\n",
    "\n",
    "cvae_training_history = cvae.fit(\n",
    "    x=[X_train, y_train], y=X_train,\n",
    "    epochs=50,\n",
    "    validation_data=([X_valid, y_valid], X_valid),\n",
    "    callbacks=callbacks\n",
    ").history"
   ]
  },
  {
   "cell_type": "markdown",
   "id": "155d7625",
   "metadata": {},
   "source": [
    "## Evaluate model on test data"
   ]
  },
  {
   "cell_type": "code",
   "execution_count": 23,
   "id": "e8beb5e2",
   "metadata": {},
   "outputs": [
    {
     "name": "stdout",
     "output_type": "stream",
     "text": [
      "1573/1573 [==============================] - 1s 790us/step - loss: 5.9275 - reconstruction_loss: 5.9202 - kl_divergence: 0.0074\n"
     ]
    }
   ],
   "source": [
    "# Calculate loss and metrics over test set\n",
    "cvae.evaluate(x=[X_test, y_test], y=X_test,\n",
    "              batch_size=BATCH_SIZE\n",
    "             );"
   ]
  },
  {
   "cell_type": "markdown",
   "id": "116f8912",
   "metadata": {},
   "source": [
    "## Get number of anomalies per stock in subset of test data"
   ]
  },
  {
   "cell_type": "code",
   "execution_count": 47,
   "id": "1a6ed819",
   "metadata": {},
   "outputs": [],
   "source": [
    "# It would take about 20 mins to get the individual loss and metrics for each observation in the test set\n",
    "# since we have to evaluate with batches of size 1, \n",
    "# so we will only look at a subset of the test data (the following next takes about 2 minute for 1500 samples)\n",
    "\n",
    "np.random.seed(20)\n",
    "test_evaluation_indices = np.random.choice(np.arange(X_test.shape[0]), replace=False, size=1500)"
   ]
  },
  {
   "cell_type": "code",
   "execution_count": 48,
   "id": "45d86e44",
   "metadata": {},
   "outputs": [
    {
     "name": "stdout",
     "output_type": "stream",
     "text": [
      "Wall time: 43.4 s\n"
     ]
    }
   ],
   "source": [
    "%%time\n",
    "\n",
    "# Get reconstruction error for each observation in subset of test set\n",
    "test_index_recon_loss_dict = {}\n",
    "for index in test_evaluation_indices:\n",
    "        \n",
    "    X = X_test[index:index+1, :]\n",
    "    y = y_test[index:index+1, :]\n",
    "    \n",
    "    loss_dict = cvae.evaluate(x=[X, y], y=y, \n",
    "                              batch_size=1, return_dict=True, verbose=0)\n",
    "    \n",
    "    test_index_recon_loss_dict[index] = loss_dict['reconstruction_loss']"
   ]
  },
  {
   "cell_type": "code",
   "execution_count": 49,
   "id": "c59e3d88",
   "metadata": {},
   "outputs": [
    {
     "data": {
      "image/png": "[encoded data removed]",
      "text/plain": [
       "<Figure size 432x288 with 1 Axes>"
      ]
     },
     "metadata": {
      "needs_background": "light"
     },
     "output_type": "display_data"
    }
   ],
   "source": [
    "ax = plt.gca()\n",
    "\n",
    "sns.histplot(data=test_index_recon_loss_dict.values(), bins=10, kde=True, log_scale=True, legend=False)\n",
    "ax.set_xlabel('reconstruction loss')\n",
    "ax.set_ylabel('number of occurences')\n",
    "ax.set_title('reconstruction loss frequencies in subset of (normalized) test data');"
   ]
  },
  {
   "cell_type": "code",
   "execution_count": 50,
   "id": "04289ef6",
   "metadata": {},
   "outputs": [],
   "source": [
    "def print_high_reconstruction_loss_percentiles(losses):\n",
    "    print(f'90th percentile: {np.percentile(losses, 90)}')\n",
    "    print(f'95th percentile: {np.percentile(losses, 95)}')\n",
    "    print(f'97.5th percentile: {np.percentile(losses, 97.5)}')\n",
    "    print(f'99th percentile: {np.percentile(losses, 99)}')"
   ]
  },
  {
   "cell_type": "code",
   "execution_count": 51,
   "id": "e3534be3",
   "metadata": {},
   "outputs": [
    {
     "name": "stdout",
     "output_type": "stream",
     "text": [
      "reconstruction_loss percentiles in subset of test set\n",
      "90th percentile: 1.49755973815918\n",
      "95th percentile: 4.7356764554977335\n",
      "97.5th percentile: 14.227459502220132\n",
      "99th percentile: 53.4895689773558\n"
     ]
    }
   ],
   "source": [
    "print('reconstruction_loss percentiles in subset of test set')\n",
    "print_high_reconstruction_loss_percentiles(list(test_index_recon_loss_dict.values()))"
   ]
  },
  {
   "cell_type": "code",
   "execution_count": 52,
   "id": "3f89694a",
   "metadata": {},
   "outputs": [
    {
     "name": "stdout",
     "output_type": "stream",
     "text": [
      "anomaly threshold reconstruction value:  53.4895689773558\n"
     ]
    }
   ],
   "source": [
    "# We'll consider any reconstruction loss above ANOMALY_THRESHOLD_VALUE as anomalous\n",
    "ANOMALY_THRESHOLD_VALUE = np.percentile(list(test_index_recon_loss_dict.values()), 99)\n",
    "print('anomaly threshold reconstruction value: ', ANOMALY_THRESHOLD_VALUE)"
   ]
  },
  {
   "cell_type": "code",
   "execution_count": 53,
   "id": "c41fc747",
   "metadata": {},
   "outputs": [],
   "source": [
    "anomalous_test_set_indices = [index for \n",
    "                              index, recon_loss in test_index_recon_loss_dict.items()\n",
    "                              if recon_loss >= ANOMALY_THRESHOLD_VALUE\n",
    "                             ]"
   ]
  },
  {
   "cell_type": "code",
   "execution_count": 54,
   "id": "a7e0e27f",
   "metadata": {},
   "outputs": [
    {
     "data": {
      "text/plain": [
       "AMZN    9\n",
       "AMD     2\n",
       "AAPL    2\n",
       "NFLX    1\n",
       "TSLA    1\n",
       "Name: ticker, dtype: int64"
      ]
     },
     "execution_count": 54,
     "metadata": {},
     "output_type": "execute_result"
    }
   ],
   "source": [
    "anomalies_per_ticker_df = X_test_df['ticker'].iloc[anomalous_test_set_indices].value_counts()\n",
    "most_anomalous_stocks = list(anomalies_per_ticker_df.index)\n",
    "anomalies_per_ticker_df"
   ]
  },
  {
   "cell_type": "markdown",
   "id": "d7b757e8",
   "metadata": {},
   "source": [
    "Note that the above anomaly counts are based on only a very small subset of the testing data (doing this for the entire test set would take at least 20 minutes), and so it should not be concluded that these are the only stocks with anomalous values."
   ]
  },
  {
   "cell_type": "markdown",
   "id": "26e693c6",
   "metadata": {},
   "source": [
    "## Finding anomalies in a particular stock"
   ]
  },
  {
   "cell_type": "code",
   "execution_count": 61,
   "id": "b88ca828",
   "metadata": {},
   "outputs": [
    {
     "data": {
      "text/html": [
       "<div>\n",
       "<style scoped>\n",
       "    .dataframe tbody tr th:only-of-type {\n",
       "        vertical-align: middle;\n",
       "    }\n",
       "\n",
       "    .dataframe tbody tr th {\n",
       "        vertical-align: top;\n",
       "    }\n",
       "\n",
       "    .dataframe thead th {\n",
       "        text-align: right;\n",
       "    }\n",
       "</style>\n",
       "<table border=\"1\" class=\"dataframe\">\n",
       "  <thead>\n",
       "    <tr style=\"text-align: right;\">\n",
       "      <th></th>\n",
       "      <th>open</th>\n",
       "      <th>high</th>\n",
       "      <th>low</th>\n",
       "      <th>close</th>\n",
       "      <th>volume</th>\n",
       "      <th>open_close</th>\n",
       "      <th>high_low</th>\n",
       "    </tr>\n",
       "    <tr>\n",
       "      <th>Date</th>\n",
       "      <th></th>\n",
       "      <th></th>\n",
       "      <th></th>\n",
       "      <th></th>\n",
       "      <th></th>\n",
       "      <th></th>\n",
       "      <th></th>\n",
       "    </tr>\n",
       "  </thead>\n",
       "  <tbody>\n",
       "    <tr>\n",
       "      <th>2017-02-10</th>\n",
       "      <td>-0.408350</td>\n",
       "      <td>-0.408865</td>\n",
       "      <td>-0.408138</td>\n",
       "      <td>-0.408160</td>\n",
       "      <td>1.534272</td>\n",
       "      <td>0.022076</td>\n",
       "      <td>-0.365920</td>\n",
       "    </tr>\n",
       "    <tr>\n",
       "      <th>2017-02-13</th>\n",
       "      <td>-0.407876</td>\n",
       "      <td>-0.408350</td>\n",
       "      <td>-0.407611</td>\n",
       "      <td>-0.407923</td>\n",
       "      <td>0.981443</td>\n",
       "      <td>0.009132</td>\n",
       "      <td>-0.365920</td>\n",
       "    </tr>\n",
       "    <tr>\n",
       "      <th>2017-02-14</th>\n",
       "      <td>-0.407403</td>\n",
       "      <td>-0.407975</td>\n",
       "      <td>-0.407083</td>\n",
       "      <td>-0.407497</td>\n",
       "      <td>1.233237</td>\n",
       "      <td>0.006543</td>\n",
       "      <td>-0.370917</td>\n",
       "    </tr>\n",
       "    <tr>\n",
       "      <th>2017-02-15</th>\n",
       "      <td>-0.407498</td>\n",
       "      <td>-0.408256</td>\n",
       "      <td>-0.407275</td>\n",
       "      <td>-0.407592</td>\n",
       "      <td>1.022984</td>\n",
       "      <td>0.006543</td>\n",
       "      <td>-0.374248</td>\n",
       "    </tr>\n",
       "    <tr>\n",
       "      <th>2017-02-16</th>\n",
       "      <td>-0.407545</td>\n",
       "      <td>-0.408256</td>\n",
       "      <td>-0.407611</td>\n",
       "      <td>-0.408018</td>\n",
       "      <td>0.879115</td>\n",
       "      <td>-0.014168</td>\n",
       "      <td>-0.362589</td>\n",
       "    </tr>\n",
       "  </tbody>\n",
       "</table>\n",
       "</div>"
      ],
      "text/plain": [
       "                open      high       low     close    volume  open_close  \\\n",
       "Date                                                                       \n",
       "2017-02-10 -0.408350 -0.408865 -0.408138 -0.408160  1.534272    0.022076   \n",
       "2017-02-13 -0.407876 -0.408350 -0.407611 -0.407923  0.981443    0.009132   \n",
       "2017-02-14 -0.407403 -0.407975 -0.407083 -0.407497  1.233237    0.006543   \n",
       "2017-02-15 -0.407498 -0.408256 -0.407275 -0.407592  1.022984    0.006543   \n",
       "2017-02-16 -0.407545 -0.408256 -0.407611 -0.408018  0.879115   -0.014168   \n",
       "\n",
       "            high_low  \n",
       "Date                  \n",
       "2017-02-10 -0.365920  \n",
       "2017-02-13 -0.365920  \n",
       "2017-02-14 -0.370917  \n",
       "2017-02-15 -0.374248  \n",
       "2017-02-16 -0.362589  "
      ]
     },
     "execution_count": 61,
     "metadata": {},
     "output_type": "execute_result"
    }
   ],
   "source": [
    "anomalous_stock = 'F' # Ford\n",
    "\n",
    "anomalous_stock_df = data[data['ticker'] == anomalous_stock].drop(['ticker'], axis=1).sort_index()\n",
    "X_anomalous_stock_np = anomalous_stock_df.to_numpy()\n",
    "X_anomalous_stock_np = data_scaler.transform(X_anomalous_stock_np)\n",
    "anomalous_stock_df = pd.DataFrame(X_anomalous_stock_np, \n",
    "                                  columns=list(anomalous_stock_df.columns), index=anomalous_stock_df.index)\n",
    "\n",
    "anomalous_stock_one_hot_id = ticker_label_encoder.transform([anomalous_stock])[0]\n",
    "y_anomalous_stock_np = [0] * anomalous_stock_one_hot_id + [1] + [0] * (NUM_TICKERS - anomalous_stock_one_hot_id - 1)\n",
    "\n",
    "anomalous_stock_df.head()"
   ]
  },
  {
   "cell_type": "code",
   "execution_count": 62,
   "id": "2b8b3b16",
   "metadata": {},
   "outputs": [
    {
     "name": "stdout",
     "output_type": "stream",
     "text": [
      "reconstruction losses for F\n",
      "90th percentile: 24.649774932861337\n",
      "95th percentile: 38.44100837707514\n",
      "97.5th percentile: 62.01905994415282\n",
      "99th percentile: 118.28422393798957\n",
      "\n",
      "number of anomalies: 13\n",
      "\n",
      "Wall time: 35.3 s\n"
     ]
    }
   ],
   "source": [
    "%%time\n",
    "def get_reconstruction_loss(row, ticker_one_hot):\n",
    "    \n",
    "    x = np.expand_dims(row.to_numpy(), axis=0)\n",
    "    y = np.expand_dims(ticker_one_hot, axis=0)\n",
    "    \n",
    "    return cvae.evaluate(x=[x, y], y=x, batch_size=1, return_dict=True, verbose=0)['reconstruction_loss']\n",
    "\n",
    "# Get reconstruction loss for each observation of anomalous_stock\n",
    "get_anomalous_stock_reconstruction_loss = lambda r: get_reconstruction_loss(r, y_anomalous_stock_np)\n",
    "\n",
    "if not 'reconstruction_loss' in anomalous_stock_df.columns:\n",
    "    anomalous_stock_df['reconstruction_loss'] = anomalous_stock_df.apply(get_anomalous_stock_reconstruction_loss, axis=1)\n",
    "\n",
    "# Print large percentiles for reconstruction losses\n",
    "print(f'reconstruction losses for {anomalous_stock}')\n",
    "print_high_reconstruction_loss_percentiles(list(anomalous_stock_df['reconstruction_loss']))\n",
    "\n",
    "# Get reconstruction loss threshold for determining anomalies\n",
    "anomaly_threshold = np.percentile(list(anomalous_stock_df['reconstruction_loss']), 99)\n",
    "\n",
    "# Get dates of anomalies\n",
    "anomalous_stock_anomaly_dates = anomalous_stock_df[anomalous_stock_df['reconstruction_loss'] >= anomaly_threshold].index\n",
    "print(f'\\nnumber of anomalies: {len(anomalous_stock_anomaly_dates)}\\n')"
   ]
  },
  {
   "cell_type": "code",
   "execution_count": 63,
   "id": "a104c096",
   "metadata": {},
   "outputs": [
    {
     "data": {
      "image/png": "[encoded data removed]",
      "text/plain": [
       "<Figure size 864x1008 with 3 Axes>"
      ]
     },
     "metadata": {
      "needs_background": "light"
     },
     "output_type": "display_data"
    }
   ],
   "source": [
    "# We plot the high_low, open_close, and volume for anomalous_stock on each day in the dataset\n",
    "# We place vertical lines on days where our model's reconstruction loss is in the 99th percentile\n",
    "# In particular, the model has high reconstruction loss for dates where there was a spike in one of those variables\n",
    "# Note that \n",
    "\n",
    "plot_vars = ['high_low', 'open_close', 'volume']\n",
    "\n",
    "fig, axs = plt.subplots(len(plot_vars), 1, sharex=True, figsize=(12, 14))\n",
    "for a, (ax, var) in enumerate( zip(axs, plot_vars) ):\n",
    "    \n",
    "    if isinstance(var, tuple):\n",
    "        sns.lineplot(data=anomalous_stock_df[[var[0]]], x='Date', y=var[0], ax=ax)\n",
    "        sns.lineplot(data=anomalous_stock_df[[var[1]]], x='Date', y=var[1], ax=ax)\n",
    "        \n",
    "        ymin = anomalous_stock_df[var[0]].min()\n",
    "        ymax = anomalous_stock_df[var[0]].max()\n",
    "        \n",
    "    else:\n",
    "        sns.lineplot(data=anomalous_stock_df[[var]], x='Date', y=var, ax=ax)\n",
    "        ymin = anomalous_stock_df[var].min()\n",
    "        ymax = anomalous_stock_df[var].max()\n",
    "    \n",
    "            \n",
    "    ax.vlines(x=anomalous_stock_anomaly_dates, ymin=ymin, ymax=ymax, color='red', linestyle=(0, (5, 5)))\n",
    "    \n",
    "    ax.grid(True)\n",
    "    ax.set_ylabel(var)"
   ]
  },
  {
   "cell_type": "code",
   "execution_count": 47,
   "id": "ffb35387",
   "metadata": {},
   "outputs": [
    {
     "data": {
      "text/plain": [
       "[Timestamp('2020-03-25 00:00:00'),\n",
       " Timestamp('2020-03-31 00:00:00'),\n",
       " Timestamp('2020-06-05 00:00:00'),\n",
       " Timestamp('2021-01-21 00:00:00'),\n",
       " Timestamp('2021-04-29 00:00:00'),\n",
       " Timestamp('2021-05-21 00:00:00'),\n",
       " Timestamp('2021-05-26 00:00:00'),\n",
       " Timestamp('2021-05-27 00:00:00'),\n",
       " Timestamp('2021-10-28 00:00:00'),\n",
       " Timestamp('2021-11-10 00:00:00'),\n",
       " Timestamp('2022-01-04 00:00:00'),\n",
       " Timestamp('2022-01-05 00:00:00'),\n",
       " Timestamp('2022-02-04 00:00:00')]"
      ]
     },
     "execution_count": 47,
     "metadata": {},
     "output_type": "execute_result"
    }
   ],
   "source": [
    "sorted(anomalous_stock_anomaly_dates)"
   ]
  },
  {
   "cell_type": "markdown",
   "id": "9ddc050d",
   "metadata": {},
   "source": [
    "Looking up some of the dates with high reconstruction losses...\n",
    "\n",
    "*2020-03-25* <br>\n",
    "Ford: Kentucky Truck Plant worker contracts coronavirus <br>\n",
    "https://www.wdrb.com/in-depth/ford-kentucky-truck-plant-worker-contracts-coronavirus/article_b7c80756-6ef9-11ea-8435-4767ffb821e0.html <br>\n",
    "\"Ford's U.S. plants, in Kentucky Truck Plant and Louisville Assembly Plant, are shut down indefinitely starting this week because of the outbreak.\"\n",
    "\n",
    "<br> *2020-03-31* <br>\n",
    "1. Ford slashes vehicle production at six plants in North America due to chip shortage\n",
    "    https://www.cnbc.com/2021/03/31/ford-slashes-vehicle-production-at-seven-plants-in-north-america-due-to-chip-shortage.html <br>\n",
    "\n",
    "2. Ford postpones reopening ‘key’ plants due to coronavirus pandemic\n",
    "    https://www.cnbc.com/2020/03/31/ford-postpones-reopening-key-plants-due-to-coronavirus-pandemic.html\n",
    "\n",
    "<br> *2021-01-21* <br>\n",
    "Ford shares on pace for best week since June on new products, earnings expectations\n",
    "https://www.cnbc.com/2021/01/21/ford-shares-on-pace-for-best-week-since-june-on-new-products.html\n",
    "\n",
    "<br> *2021-05-21* <br>\n",
    "Ford CEO: F-150 Lightning has nearly 45,000 reservations\n",
    "https://www.detroitnews.com/story/business/autos/ford/2021/05/21/ford-ceo-says-automaker-has-more-than-44-500-f-150-lightning-deposits/5204444001/"
   ]
  }
 ],
 "metadata": {
  "kernelspec": {
   "display_name": "Python [conda env:tf_env]",
   "language": "python",
   "name": "conda-env-tf_env-py"
  },
  "language_info": {
   "codemirror_mode": {
    "name": "ipython",
    "version": 3
   },
   "file_extension": ".py",
   "mimetype": "text/x-python",
   "name": "python",
   "nbconvert_exporter": "python",
   "pygments_lexer": "ipython3",
   "version": "3.9.7"
  }
 },
 "nbformat": 4,
 "nbformat_minor": 5
}
