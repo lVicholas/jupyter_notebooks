{
 "cells": [
  {
   "cell_type": "markdown",
   "metadata": {},
   "source": [
    "The goal of this notebook is to compare performance of Naive Bayes, SVC (linear kernel), and Logistic Regression (with regularization) classifiers with a bag-of-words (BOW) approach to classify emails as spam or non-spam only using the email text."
   ]
  },
  {
   "cell_type": "markdown",
   "metadata": {},
   "source": [
    "Note: this notebook (specifically the cells where models are fit) takes a long time to run because\n",
    "1. Each model is tuned with cross-validation\n",
    "2. The data is high-dimensional\n",
    "3. 3 models are fit each time"
   ]
  },
  {
   "cell_type": "markdown",
   "metadata": {},
   "source": [
    "First import the relevant packages."
   ]
  },
  {
   "cell_type": "code",
   "execution_count": 1,
   "metadata": {},
   "outputs": [],
   "source": [
    "import pandas as pd\n",
    "import numpy as np\n",
    "import matplotlib.pyplot as plt # For ROC Curves\n",
    "import random as rand\n",
    "from sklearn.model_selection import train_test_split\n",
    "from sklearn.feature_extraction.text import CountVectorizer\n",
    "from sklearn.naive_bayes import MultinomialNB # Naive Bayes\n",
    "from sklearn.svm import SVC\n",
    "from sklearn.linear_model import LogisticRegression\n",
    "from sklearn.model_selection import GridSearchCV\n",
    "from sklearn.metrics import roc_auc_score\n",
    "from sklearn.metrics import roc_curve\n",
    "from sklearn.feature_extraction.text import TfidfVectorizer"
   ]
  },
  {
   "cell_type": "markdown",
   "metadata": {},
   "source": [
    "Read in data. The data is simply a table with the email text as the sole predictor and the label regarding spam."
   ]
  },
  {
   "cell_type": "code",
   "execution_count": 2,
   "metadata": {},
   "outputs": [
    {
     "name": "stdout",
     "output_type": "stream",
     "text": [
      "(5572, 2)\n",
      "                                                text  target\n",
      "0  Go until jurong point, crazy.. Available only ...       0\n",
      "1                      Ok lar... Joking wif u oni...       0\n",
      "2  Free entry in 2 a wkly comp to win FA Cup fina...       1\n",
      "3  U dun say so early hor... U c already then say...       0\n",
      "4  Nah I don't think he goes to usf, he lives aro...       0\n"
     ]
    }
   ],
   "source": [
    "spam_data = pd.read_csv('C:/local/data_sets/coursera_data/applied_ds_in_py_spec/spam.csv')\n",
    "spam_data['target'] = np.where(spam_data['target']=='spam',1,0)\n",
    "\n",
    "rand.seed(111)\n",
    "X_train, X_test, y_train, y_test = train_test_split(spam_data['text'], \n",
    "                                                    spam_data['target'], \n",
    "                                                    random_state=0)\n",
    "\n",
    "print(spam_data.shape)\n",
    "print(spam_data.head())"
   ]
  },
  {
   "cell_type": "markdown",
   "metadata": {},
   "source": [
    "First some data exploration."
   ]
  },
  {
   "cell_type": "code",
   "execution_count": 3,
   "metadata": {},
   "outputs": [
    {
     "data": {
      "text/plain": [
       "13.406317300789663"
      ]
     },
     "execution_count": 3,
     "metadata": {},
     "output_type": "execute_result"
    }
   ],
   "source": [
    "# What % of data are spam?\n",
    "spam_data['target'].value_counts().loc[1]/spam_data.shape[0]*100"
   ]
  },
  {
   "cell_type": "code",
   "execution_count": 4,
   "metadata": {},
   "outputs": [
    {
     "data": {
      "text/plain": [
       "'com1win150ppmx3age16subscription'"
      ]
     },
     "execution_count": 4,
     "metadata": {},
     "output_type": "execute_result"
    }
   ],
   "source": [
    "# What is the longest token in the set of emails?\n",
    "max(CountVectorizer().fit(X_train).get_feature_names(), key=len)"
   ]
  },
  {
   "cell_type": "markdown",
   "metadata": {},
   "source": [
    "First, fit a CountVectorizer object to the training data. A CountVectorizer records the set of all words present in the training data, and can then transform raw text data D to a matrix where each column is an indicator for whether a particular word from the training data set appears in each observation in D.\n",
    "\n",
    "Then fit each of the 3 classifiers where each predictor indicates whether a word (in the set of words contained in the entire set of emails) appears in a particular email. This is the bag-of-words approach. \n",
    "\n",
    "Generally, Naive Bayes models, although making the simplistic assumption that the occurence of any 2 different words is independent, often provide strong models. SVMs are generally a good choice for text data because they work well with high-dimensionality, and typically linear and quadratic kernels are good choices for text data.\n",
    "\n",
    "\n",
    "The ROC curve of each model is plotted."
   ]
  },
  {
   "cell_type": "code",
   "execution_count": 5,
   "metadata": {},
   "outputs": [
    {
     "data": {
      "image/png": "[encoded data removed]",
      "text/plain": [
       "<Figure size 432x288 with 1 Axes>"
      ]
     },
     "metadata": {
      "needs_background": "light"
     },
     "output_type": "display_data"
    }
   ],
   "source": [
    "# Fit each classifier w/ tuning parameters chosen by CV\n",
    "# Plot ROC curves\n",
    "CountVect = CountVectorizer().fit(X_train)\n",
    "X_train_mat = CountVect.transform(X_train)\n",
    "X_test_mat = CountVect.transform(X_test)\n",
    "\n",
    "rand.seed(0)\n",
    "mnb = GridSearchCV(MultinomialNB(), \n",
    "                   param_grid={'alpha':[.01,.05,.1,.25,.5,1]}\n",
    "                  ).fit(X_train_mat, y_train)\n",
    "mnb_proba = mnb.predict_proba(X_test_mat)[:,1]\n",
    "mnb_fpr, mnb_tpr, _ = roc_curve(y_test, mnb_proba)\n",
    "mnb_auc = roc_auc_score(y_test, mnb.predict(X_test_mat))\n",
    "\n",
    "rand.seed(1)\n",
    "svc = GridSearchCV(SVC(kernel='linear', probability=True), \n",
    "                   param_grid={'C':[1,10,100,1000,10000]}\n",
    "                  ).fit(X_train_mat, y_train)\n",
    "svc_proba = svc.predict_proba(X_test_mat)[:,1]\n",
    "svc_fpr, svc_tpr, _ = roc_curve(y_test, svc_proba)\n",
    "svc_auc = roc_auc_score(y_test, svc.predict(X_test_mat))\n",
    "\n",
    "rand.seed(2)\n",
    "log = GridSearchCV(LogisticRegression(), \n",
    "                   param_grid={'C':[1,5,10,50]}\n",
    "                  ).fit(X_train_mat, y_train)\n",
    "log_proba = log.predict_proba(X_test_mat)[:,1]\n",
    "log_fpr, log_tpr, _ = roc_curve(y_test, log_proba)\n",
    "log_auc = roc_auc_score(y_test, log.predict(X_test_mat))\n",
    "\n",
    "fig, ax = plt.subplots()\n",
    "ax.plot(mnb_fpr, mnb_tpr, \n",
    "        label='Naive Bayes w/ alpha={} (auc={})'.format(mnb.best_params_['alpha'],\n",
    "                                                           round(mnb_auc,5))\n",
    "       )\n",
    "ax.plot(svc_fpr, svc_tpr, \n",
    "        label='SVC w/ C={} (auc={})'.format(svc.best_params_['C'],\n",
    "                                                           round(svc_auc,5))\n",
    "       )\n",
    "ax.plot(log_fpr, log_tpr, \n",
    "        label='Log Reg w/ C={} (auc={})'.format(log.best_params_['C'],\n",
    "                                                           round(log_auc,5))\n",
    "       )\n",
    "plt.legend()\n",
    "plt.show()"
   ]
  },
  {
   "cell_type": "markdown",
   "metadata": {},
   "source": [
    "Trying to improve on the previous models, let's convert the data into Term Frequency Inverse Document Frequency (TDIDF) format. For each word in the training set, a TFIDF vectorizer records that word's frequency in each document, and also the percentage of documents that word appears in. Words like 'the' which appear in virtually every document with a high frequency will have a low TFIDF, whereas words which appear only in a few documents but frequently occur in those will have a high TFIDF: this is desirable since words like 'the' are uninformative, but words which appear multiple times in only a few documents are probably very informative."
   ]
  },
  {
   "cell_type": "code",
   "execution_count": 6,
   "metadata": {},
   "outputs": [
    {
     "name": "stdout",
     "output_type": "stream",
     "text": [
      "Lowest TFIDFs: \n",
      "(sympathetic: 0.074), (healer: 0.074), (aaniye: 0.074), (dependable: 0.074), (companion: 0.074),\n",
      "(listener: 0.074), (athletic: 0.074), (exterminator: 0.074), (psychiatrist: 0.074), (pest: 0.074),\n",
      "(determined: 0.074), (chef: 0.074), (courageous: 0.074), (stylist: 0.074), (psychologist: 0.074),\n",
      "(organizer: 0.074), (pudunga: 0.074), (venaam: 0.074), (diwali: 0.091), (mornings: 0.091),\n",
      "\n",
      "\n",
      "Highest TFIDFs\n",
      "(146tf150p: 1.0), (havent: 1.0), (home: 1.0), (okie: 1.0), (thanx: 1.0),\n",
      "(er: 1.0), (anything: 1.0), (lei: 1.0), (nite: 1.0), (yup: 1.0),\n",
      "(thank: 1.0), (ok: 1.0), (where: 1.0), (beerage: 1.0), (anytime: 1.0),\n",
      "(too: 1.0), (done: 1.0), (645: 1.0), (tick: 0.98), (blank: 0.933),\n",
      "\n"
     ]
    },
    {
     "data": {
      "image/png": "[encoded data removed]",
      "text/plain": [
       "<Figure size 432x288 with 1 Axes>"
      ]
     },
     "metadata": {
      "needs_background": "light"
     },
     "output_type": "display_data"
    }
   ],
   "source": [
    "tfidf_v = TfidfVectorizer().fit(X_train)\n",
    "features = np.array(tfidf_v.get_feature_names())\n",
    "\n",
    "X_train_mat = tfidf_v.transform(X_train)\n",
    "\n",
    "# Get the maximal TFIDF for each word since TFIDFs\n",
    "# for most word, doc pairs will be 0 since most words are likely to not appear in most documents\n",
    "tfidf_max = X_train_mat.max(0).toarray()[0]\n",
    "tfidf_max_argsor = tfidf_max.argsort()\n",
    "\n",
    "# 20 words with lowest TFIDF\n",
    "print('Lowest TFIDFs: ')\n",
    "print(''.join(['({}: {}),{}'.format(features[a],\n",
    "                                   round(tfidf_max[a],3),\n",
    "                                   ' ' if (i+1)%5!=0 else '\\n') \n",
    "               for i, a in enumerate(tfidf_max_argsor[:20])]))\n",
    "\n",
    "# 20 words with highest TFIDF\n",
    "print('\\nHighest TFIDFs')\n",
    "print(''.join(['({}: {}),{}'.format(features[a],\n",
    "                                   round(tfidf_max[a],3),\n",
    "                                   ' ' if (i+1)%5!=0 else '\\n') \n",
    "               for i, a in enumerate(tfidf_max_argsor[:-21:-1])]))\n",
    "\n",
    "# Plot histogram of word TFIDFs in dataset\n",
    "fig, ax = plt.subplots()\n",
    "ax.hist(tfidf_max)\n",
    "ax.set_xlabel('TFIDF')\n",
    "ax.set_ylabel('Frequency')\n",
    "plt.title('TFIDFs in spam data')\n",
    "plt.show()"
   ]
  },
  {
   "cell_type": "markdown",
   "metadata": {},
   "source": [
    "Now let's fit each model with word TFIDFs, where each word has a document frequency of at least 5 (an arbitrary threshold). We'll skip plotting the ROC curve since the AUC is large. We'll aslo supress ConvergenceWarning so out output looks nice."
   ]
  },
  {
   "cell_type": "code",
   "execution_count": 13,
   "metadata": {},
   "outputs": [
    {
     "name": "stdout",
     "output_type": "stream",
     "text": [
      "Multinomial Naive Bayes (alpha = 0.1) with TFIDF:\n",
      "0.9412063052815646\n",
      "SVC (C = 1) with TFIDF:\n",
      "0.9505224691441863\n",
      "LogReg (C = 100) with TFIDF:\n",
      "0.9577186221414868\n"
     ]
    }
   ],
   "source": [
    "tfidf_vec = TfidfVectorizer(min_df=5).fit(X_train)\n",
    "X_train_mat = tfidf_vec.transform(X_train)\n",
    "X_test_mat = tfidf_vec.transform(X_test)\n",
    "\n",
    "from warnings import simplefilter\n",
    "from sklearn.exceptions import ConvergenceWarning\n",
    "simplefilter(\"ignore\", category=ConvergenceWarning)\n",
    "\n",
    "rand.seed(4)\n",
    "mnb = GridSearchCV(MultinomialNB(), \n",
    "                 param_grid={'alpha':[.1,.25,.5,1]}\n",
    "                ).fit(X_train_mat, y_train)\n",
    "svc = GridSearchCV(SVC(kernel='linear'), \n",
    "                   param_grid={'C':[1,10,1000,10000]}\n",
    "                  ).fit(X_train_mat, y_train)\n",
    "log = GridSearchCV(LogisticRegression(),\n",
    "                  param_grid={'C':[1,10,50,100]}\n",
    "                  ).fit(X_train_mat, y_train)\n",
    "\n",
    "print('Multinomial Naive Bayes (alpha = {}) with TFIDF:'.format(mnb.best_params_['alpha']))\n",
    "print(roc_auc_score(y_test, mnb.predict(X_test_mat)))\n",
    "print('SVC (C = {}) with TFIDF:'.format(svc.best_params_['C']))\n",
    "print(roc_auc_score(y_test, svc.predict(X_test_mat)))\n",
    "print('LogReg (C = {}) with TFIDF:'.format(log.best_params_['C']))\n",
    "print(roc_auc_score(y_test, log.predict(X_test_mat)))"
   ]
  },
  {
   "cell_type": "markdown",
   "metadata": {},
   "source": [
    "When using TFIDFs, we get a lower AUC for Naive Bayes but a higher AUC for SVC and Logsitic Regression. \n",
    "\n",
    "Let's see if adding other variables to our TFIDF models improves them. A natural choice is the length of spam emails vs. non-spam emails."
   ]
  },
  {
   "cell_type": "code",
   "execution_count": 14,
   "metadata": {},
   "outputs": [
    {
     "name": "stdout",
     "output_type": "stream",
     "text": [
      "Mean length of non-spam emails: 71.02362694300518\n",
      "Mean length of spam emails: 138.8661311914324\n"
     ]
    }
   ],
   "source": [
    "print('Mean length of non-spam emails: {}'.format(spam_data[spam_data['target']==0]['text'].map(len).mean()))\n",
    "print('Mean length of spam emails: {}'.format(spam_data[spam_data['target']==1]['text'].map(len).mean()))"
   ]
  },
  {
   "cell_type": "code",
   "execution_count": 15,
   "metadata": {},
   "outputs": [],
   "source": [
    "# Helper function to add features to a sparse (csr) matrix\n",
    "def add_feature(X, feature_to_add):\n",
    "    from scipy.sparse import csr_matrix, hstack\n",
    "    return hstack([X, csr_matrix(feature_to_add).T], 'csr')"
   ]
  },
  {
   "cell_type": "markdown",
   "metadata": {},
   "source": [
    "Now let's fit each model on the TFIDF data (where each word has a document frequency of at least 5) , and the length of the string. We'll change the SVC kernel to radial to reduce computation."
   ]
  },
  {
   "cell_type": "code",
   "execution_count": 16,
   "metadata": {},
   "outputs": [
    {
     "name": "stdout",
     "output_type": "stream",
     "text": [
      "Multinomial Naive Bayes (alpha = 0.25) with TFIDF:\n",
      "0.9412063052815646\n",
      "SVC (C = 10000) with TFIDF:\n",
      "0.9661689557407943\n",
      "LogReg (C = 50) with TFIDF:\n",
      "0.9615405836714598\n"
     ]
    }
   ],
   "source": [
    "tfidf_vec = TfidfVectorizer(min_df=5).fit(X_train)\n",
    "X_train_mat = tfidf_vec.transform(X_train)\n",
    "X_test_mat = tfidf_vec.transform(X_test)\n",
    "X_train_mat=add_feature(X_train_mat, X_train.map(len))\n",
    "X_test_mat=add_feature(X_test_mat, X_test.map(len))\n",
    "\n",
    "rand.seed(5)\n",
    "mnb=GridSearchCV(MultinomialNB(), \n",
    "                 param_grid={'alpha':[.01,.05,.1,.25,.5,1]}\n",
    "                ).fit(X_train_mat, y_train)\n",
    "svc = GridSearchCV(SVC(), \n",
    "                   param_grid={'C':[1,10,100,1000,10000]}\n",
    "                  ).fit(X_train_mat, y_train)\n",
    "log = GridSearchCV(LogisticRegression(),\n",
    "                  param_grid={'C':[1,10,50,100]}\n",
    "                  ).fit(X_train_mat, y_train)\n",
    "\n",
    "print('Multinomial Naive Bayes (alpha = {}) with TFIDF:'.format(mnb.best_params_['alpha']))\n",
    "print(roc_auc_score(y_test, mnb.predict(X_test_mat)))\n",
    "print('SVC (C = {}) with TFIDF:'.format(svc.best_params_['C']))\n",
    "print(roc_auc_score(y_test, svc.predict(X_test_mat)))\n",
    "print('LogReg (C = {}) with TFIDF:'.format(log.best_params_['C']))\n",
    "print(roc_auc_score(y_test, log.predict(X_test_mat)))"
   ]
  },
  {
   "cell_type": "markdown",
   "metadata": {},
   "source": [
    "Let's now add variables containing how many digits are in each document, variables for n-grams 2-5 of each document, and a variable recording how many non-alphanumeric characters are contained in each document."
   ]
  },
  {
   "cell_type": "code",
   "execution_count": 17,
   "metadata": {},
   "outputs": [
    {
     "name": "stdout",
     "output_type": "stream",
     "text": [
      "Mean # digits in non-spam email: 0.2992746113989637\n",
      "Mean # digits in spam email: 15.759036144578314\n",
      "\n",
      "Mean # non-word characters in non-spam emails: 17.29181347150259\n",
      "Mean # non-word characters in spam emails: 29.042838018741634\n"
     ]
    }
   ],
   "source": [
    "# Find average number of digits in non-spam and spam emails\n",
    "print('Mean # digits in non-spam email: {}'\n",
    "      .format(spam_data[spam_data['target']==0]['text'].map(lambda x: sum(c.isdigit() for c in x)).mean()))\n",
    "print('Mean # digits in spam email: {}'\n",
    "      .format(spam_data[spam_data['target']==1]['text'].map(lambda x: sum(c.isdigit() for c in x)).mean()))\n",
    "\n",
    "# Get the average # of non-word characters in non-spam and spam emails\n",
    "def non_word_char(c):\n",
    "        return 1-int(c.isalpha() or c.isdigit() or c=='_')\n",
    "\n",
    "print('\\nMean # non-word characters in non-spam emails: {}'\n",
    "      .format(spam_data[spam_data['target']==0]['text'].map(lambda s: sum(non_word_char(c) for c in s)).mean()))\n",
    "print('Mean # non-word characters in spam emails: {}'\n",
    "      .format(spam_data[spam_data['target']==1]['text'].map(lambda s: sum(non_word_char(c) for c in s)).mean()))"
   ]
  },
  {
   "cell_type": "markdown",
   "metadata": {},
   "source": [
    "In this notebook, we've observed Naive Bayes performing better on CountVectorized data, whereas SVC and LogisticRegression perform better on TFIDFVectorized data."
   ]
  },
  {
   "cell_type": "code",
   "execution_count": 19,
   "metadata": {},
   "outputs": [
    {
     "name": "stdout",
     "output_type": "stream",
     "text": [
      "Naive Bayes w/ alpha=0.1: 0.9818451521993787\n",
      "LogReg w/ C=100: 0.9805612617353955\n",
      "SVC w/ C=100: 0.9771870702680677\n"
     ]
    }
   ],
   "source": [
    "CountVect = CountVectorizer(min_df=5, ngram_range=(2,5), analyzer='char_wb').fit(X_train)\n",
    "X_train_mat_cv = CountVect.transform(X_train)\n",
    "X_test_mat_cv = CountVect.transform(X_test)\n",
    "\n",
    "tfidf_v = TfidfVectorizer(min_df=5, ngram_range=(2,5), \n",
    "                          analyzer='char_wb').fit(X_train)\n",
    "X_train_mat_tfidf = tfidf_v.transform(X_train)\n",
    "X_test_mat_tfidf = tfidf_v.transform(X_test)\n",
    "\n",
    "# Add length of each document\n",
    "X_train_mat_cv=add_feature(X_train_mat_cv, X_train.map(len))\n",
    "X_test_mat_cv=add_feature(X_test_mat_cv, X_test.map(len))\n",
    "\n",
    "X_train_mat_tfidf=add_feature(X_train_mat_tfidf, X_train.map(len))\n",
    "X_test_mat_tfidf=add_feature(X_test_mat_tfidf, X_test.map(len))\n",
    "\n",
    "# Add # digits in each document\n",
    "X_train_mat_cv = add_feature(X_train_mat_cv, \n",
    "                             X_train.map(lambda s: sum(c.isdigit() for c in s))) \n",
    "X_test_mat_cv = add_feature(X_test_mat_cv, \n",
    "                            X_test.map(lambda s: sum(c.isdigit() for c in s)))\n",
    "\n",
    "X_train_mat_tfidf = add_feature(X_train_mat_tfidf, \n",
    "                                X_train.map(lambda s: sum(c.isdigit() for c in s))) \n",
    "X_test_mat_tfidf = add_feature(X_test_mat_tfidf, \n",
    "                               X_test.map(lambda s: sum(c.isdigit() for c in s)))\n",
    "\n",
    "# Add # of non-alphanumeric characters in each document\n",
    "X_train_mat_cv = add_feature(X_train_mat_cv, \n",
    "                             X_train.map(lambda s: sum(non_word_char(c) for c in s)))\n",
    "X_test_mat_cv = add_feature(X_test_mat_cv, \n",
    "                            X_test.map(lambda s: sum(non_word_char(c) for c in s)))\n",
    "\n",
    "X_train_mat_tfidf = add_feature(X_train_mat_tfidf, \n",
    "                                X_train.map(lambda s: sum(non_word_char(c) for c in s)))\n",
    "X_test_mat_tfidf = add_feature(X_test_mat_tfidf, \n",
    "                               X_test.map(lambda s: sum(non_word_char(c) for c in s)))\n",
    "\n",
    "rand.seed(6)\n",
    "mnb = mnb=GridSearchCV(MultinomialNB(), \n",
    "                       param_grid={'alpha':[.01,.05,.1,.25,.5,1]}).fit(X_train_mat_cv, y_train)\n",
    "print('Naive Bayes w/ alpha={}: {}'.format(mnb.best_params_['alpha'],\n",
    "                                           roc_auc_score(y_test, mnb.predict(X_test_mat_cv))))\n",
    "\n",
    "log = GridSearchCV(LogisticRegression(), \n",
    "                   param_grid={'C':[1,10,100]}).fit(X_train_mat_tfidf, y_train)\n",
    "print('LogReg w/ C={}: {}'.format(log.best_params_['C'], \n",
    "                                  roc_auc_score(y_test, log.predict(X_test_mat_tfidf))))\n",
    "\n",
    "svc = GridSearchCV(SVC(kernel='linear'),\n",
    "                  param_grid={'C':[1,10,100,1000,10000]}).fit(X_train_mat_tfidf, y_train)\n",
    "print('SVC w/ C={}: {}'.format(log.best_params_['C'], \n",
    "                               roc_auc_score(y_test, svc.predict(X_test_mat_tfidf))))"
   ]
  }
 ],
 "metadata": {
  "coursera": {
   "course_slug": "python-text-mining",
   "graded_item_id": "Pn19K",
   "launcher_item_id": "y1juS",
   "part_id": "ctlgo"
  },
  "kernelspec": {
   "display_name": "Python 3 (ipykernel)",
   "language": "python",
   "name": "python3"
  },
  "language_info": {
   "codemirror_mode": {
    "name": "ipython",
    "version": 3
   },
   "file_extension": ".py",
   "mimetype": "text/x-python",
   "name": "python",
   "nbconvert_exporter": "python",
   "pygments_lexer": "ipython3",
   "version": "3.9.5"
  }
 },
 "nbformat": 4,
 "nbformat_minor": 2
}
